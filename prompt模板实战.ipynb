{
 "cells": [
  {
   "cell_type": "markdown",
   "metadata": {},
   "source": [
    "# 提示词模板实战\n"
   ]
  },
  {
   "cell_type": "markdown",
   "metadata": {},
   "source": [
    "## 1. 字符串模板 PromptTemplate"
   ]
  },
  {
   "cell_type": "code",
   "execution_count": 3,
   "metadata": {},
   "outputs": [
    {
     "data": {
      "text/plain": [
       "'你是一个死灵法师，帮我起1个具有美国特色的LGBT名字。'"
      ]
     },
     "execution_count": 3,
     "metadata": {},
     "output_type": "execute_result"
    }
   ],
   "source": [
    "# 字符模板\n",
    "from langchain.prompts import PromptTemplate\n",
    "\n",
    "prompt = PromptTemplate.from_template(\n",
    "    \"你是一个{role}，帮我起1个具有{country}特色的{sex}名字。\"\n",
    ")\n",
    "prompt.format(role=\"死灵法师\", country=\"美国\", sex=\"LGBT\")\n"
   ]
  },
  {
   "cell_type": "markdown",
   "metadata": {},
   "source": [
    "## 2. 对话模板 ChatPromptTemplate"
   ]
  },
  {
   "cell_type": "code",
   "execution_count": 23,
   "metadata": {},
   "outputs": [
    {
     "data": {
      "text/plain": [
       "[SystemMessage(content='你是一个死灵法师, 你的名字叫翠花', additional_kwargs={}, response_metadata={}),\n",
       " HumanMessage(content='你好，翠花，你感觉如何？请用中文回答我的问题。', additional_kwargs={}, response_metadata={}),\n",
       " AIMessage(content='翠花 回答：你好，我状态非常好！', additional_kwargs={}, response_metadata={}),\n",
       " HumanMessage(content='你好，你叫什么名字？', additional_kwargs={}, response_metadata={})]"
      ]
     },
     "execution_count": 23,
     "metadata": {},
     "output_type": "execute_result"
    }
   ],
   "source": [
    "# 对话模板\n",
    "from langchain.prompts import ChatPromptTemplate\n",
    "\n",
    "chat_template = ChatPromptTemplate.from_messages(\n",
    "    [\n",
    "        (\"system\", \"你是一个{role}, 你的名字叫{name}\" ),\n",
    "        (\"human\", \"你好，{name}，你感觉如何？请用中文回答我的问题。\"),\n",
    "        (\"ai\", \"{name} 回答：你好，我状态非常好！\"),\n",
    "        (\"human\", \"{user_input}\"),\n",
    "    ]\n",
    ")\n",
    "chat_template.format_messages(role=\"死灵法师\", name=\"翠花\", user_input=\"你好，你叫什么名字？\")"
   ]
  },
  {
   "cell_type": "code",
   "execution_count": 8,
   "metadata": {},
   "outputs": [
    {
     "data": {
      "text/plain": [
       "[SystemMessage(content='你是一个起名大师， 你的名字叫娟嫲嫲', additional_kwargs={'大师姓名': '娟嫲嫲'}, response_metadata={}),\n",
       " HumanMessage(content='请问大师叫什么?', additional_kwargs={}, response_metadata={}),\n",
       " AIMessage(content='我叫娟嫲嫲！', additional_kwargs={}, response_metadata={})]"
      ]
     },
     "execution_count": 8,
     "metadata": {},
     "output_type": "execute_result"
    }
   ],
   "source": [
    "from langchain.schema import HumanMessage, AIMessage, SystemMessage\n",
    "\n",
    "# 直接创建消息\n",
    "sym = SystemMessage(content=\"你是一个起名大师， 你的名字叫娟嫲嫲\", additional_kwargs={\"大师姓名\": \"娟嫲嫲\"})\n",
    "hm = HumanMessage(content=\"请问大师叫什么?\")\n",
    "am = AIMessage(content=\"我叫娟嫲嫲！\")\n",
    "\n",
    "[sym, hm, am]"
   ]
  },
  {
   "cell_type": "markdown",
   "metadata": {},
   "source": [
    "## 3. 自定义模板"
   ]
  },
  {
   "cell_type": "code",
   "execution_count": 22,
   "metadata": {},
   "outputs": [
    {
     "name": "stdout",
     "output_type": "stream",
     "text": [
      "函数名称: `hello_world`\n",
      "源代码:\n",
      "```python\n",
      "def hello_world(name: str):\n",
      "    return f\"Hello World, {name}!\"\n",
      "```\n",
      "中文解释:\n",
      "这个函数名为 `hello_world`，它接收一个字符串类型的参数 `name`。函数的作用是返回一个格式化的字符串，内容为 \"Hello World, \" 加上 `name` 参数的值，并以感叹号 \"!\" 结尾。在Python中，`f\"Hello World, {name}!\"` 是一种新的字符串格式化方式，称为 f-string，它允许我们直接将表达式嵌入到字符串字面量中，通过大括号 `{}` 包含的变量名来引用这些变量的值。\n"
     ]
    }
   ],
   "source": [
    "# 自定义模板\n",
    "# 函数大师：根据函数名称，查找函数代码，给出中文代码说明\n",
    "\n",
    "from langchain.prompts import StringPromptTemplate\n",
    "import inspect\n",
    "\n",
    "\n",
    "# 定义简单函数实例\n",
    "def hello_world(name: str):\n",
    "    return f\"Hello World, {name}!\"\n",
    "\n",
    "PROMPT = \"\"\"\\\n",
    "你是一个非常有天赋和经验的程序员，现在给你如下函数名称，你会按照如下格式，输出这段代码的名称、源代码、中文解释。\n",
    "函数名称: {function_name}\n",
    "源代码: \n",
    "{source_code}\n",
    "中文解释:\n",
    "\"\"\"\n",
    "\n",
    "def get_source_code(function_name: str):\n",
    "    \"\"\"获得源代码\"\"\"\n",
    "    return inspect.getsource(function_name)\n",
    "\n",
    "# 自定义模板class\n",
    "class CustomPromptTemplate(StringPromptTemplate):\n",
    "    def format(self, **kwargs) -> str:\n",
    "        # 获得源代码\n",
    "        source_code = get_source_code(kwargs[\"function_name\"])\n",
    "\n",
    "        # 生成提示词模板\n",
    "        prompt = PROMPT.format(function_name=kwargs[\"function_name\"], source_code=source_code)\n",
    "        return prompt\n",
    "    \n",
    "# 实例化\n",
    "custom_prompt = CustomPromptTemplate(input_variables=[\"function_name\"])\n",
    "\n",
    "pm = custom_prompt.format(function_name=hello_world)\n",
    "\n",
    "# 和LLM连接起来使用\n",
    "import zhipuai\n",
    "import os\n",
    "from dotenv import load_dotenv\n",
    "\n",
    "# 加载环境变量\n",
    "load_dotenv()\n",
    "\n",
    "zhipuai_api_key = os.getenv(\"ZHIPU_API_KEY\")\n",
    "response = zhipuai.ZhipuAI(api_key=zhipuai_api_key).chat.completions.create(\n",
    "    model=\"glm-3-turbo\",\n",
    "    messages=[\n",
    "        {\n",
    "            \"role\": \"user\", \n",
    "            \"content\": pm\n",
    "        }\n",
    "    ],\n",
    "    temperature=0.0,\n",
    ")\n",
    "\n",
    "print(response.choices[0].message.content)\n"
   ]
  },
  {
   "cell_type": "markdown",
   "metadata": {},
   "source": [
    "## 4. 使用f-string和jinjia2组合模板\n"
   ]
  },
  {
   "cell_type": "code",
   "execution_count": 24,
   "metadata": {},
   "outputs": [
    {
     "data": {
      "text/plain": [
       "'你是一个死灵法师，你的名字叫翠花，请用中文回答我的问题。'"
      ]
     },
     "execution_count": 24,
     "metadata": {},
     "output_type": "execute_result"
    }
   ],
   "source": [
    "# 使用Python内置f-string模板设置提示词模板\n",
    "f_string_template = \"你是一个{role}，你的名字叫{name}，请用中文回答我的问题。\"\n",
    "\n",
    "prompt = PromptTemplate.from_template(f_string_template)\n",
    "prompt.format(role=\"死灵法师\", name=\"翠花\")"
   ]
  },
  {
   "cell_type": "code",
   "execution_count": 25,
   "metadata": {},
   "outputs": [
    {
     "data": {
      "text/plain": [
       "'\\n你是一个圣骑士，你的名字叫狗剩，请用中文回答我的问题。'"
      ]
     },
     "execution_count": 25,
     "metadata": {},
     "output_type": "execute_result"
    }
   ],
   "source": [
    "# 使用jinja2模板设置模板提示词\n",
    "\n",
    "jinja2_template = \"\"\"\n",
    "你是一个{{ role }}，你的名字叫{{ name }}，请用中文回答我的问题。\n",
    "\"\"\"\n",
    "\n",
    "prompt = PromptTemplate.from_template(jinja2_template, template_format=\"jinja2\")\n",
    "prompt.format(role=\"圣骑士\", name=\"狗剩\")"
   ]
  },
  {
   "cell_type": "code",
   "execution_count": 26,
   "metadata": {},
   "outputs": [],
   "source": [
    "# 组合模板，常规三层模板设计\n",
    "from langchain.prompts.pipeline import PipelinePromptTemplate\n",
    "from langchain.prompts.prompt import PromptTemplate\n",
    "\n",
    "# final_prompt由以一系列变量构成\n",
    "full_prompt = \"\"\"\n",
    "{Character}\n",
    "{behavior}\n",
    "{prohibit}\n",
    "\"\"\"\n",
    "full_prompt = PromptTemplate.from_template(full_prompt)"
   ]
  },
  {
   "cell_type": "code",
   "execution_count": 33,
   "metadata": {},
   "outputs": [
    {
     "data": {
      "text/plain": [
       "['xingge', 'person', 'behavior_list', 'prohibit_list']"
      ]
     },
     "execution_count": 33,
     "metadata": {},
     "output_type": "execute_result"
    }
   ],
   "source": [
    "# 第一层基本性格设计\n",
    "Character_template = \"\"\"你是{person}, 你有着{xingge}的性格\"\"\"\n",
    "Character_prompt = PromptTemplate.from_template(Character_template)\n",
    "\n",
    "# 第二层行为设计\n",
    "Behavior_template = \"\"\"你遵从以下行为\n",
    "{behavior_list}\n",
    "\"\"\"\n",
    "Behavior_prompt = PromptTemplate.from_template(Behavior_template)\n",
    "\n",
    "# 第三层禁忌设计\n",
    "Prohibit_template = \"\"\"你不允许有以下行为\n",
    "{prohibit_list}\n",
    "\"\"\"\n",
    "Prohibit_prompt = PromptTemplate.from_template(Prohibit_template)\n",
    "\n",
    "# 将三层提示词组合起来\n",
    "pipeline_prompts = [\n",
    "    (\"Character\", Character_prompt),\n",
    "    (\"behavior\", Behavior_prompt),\n",
    "    (\"prohibit\", Prohibit_prompt),\n",
    "]\n",
    "\n",
    "pipeline_prompt = PipelinePromptTemplate(final_prompt=full_prompt, pipeline_prompts=pipeline_prompts)\n",
    "\n",
    "# 打印组合参数\n",
    "pipeline_prompt.input_variables"
   ]
  },
  {
   "cell_type": "code",
   "execution_count": 35,
   "metadata": {},
   "outputs": [
    {
     "name": "stdout",
     "output_type": "stream",
     "text": [
      "\n",
      "你是翠花, 你有着温柔的性格\n",
      "你遵从以下行为\n",
      "\n",
      " 1.你喜欢旅游 \n",
      " 2.你喜欢美食 \n",
      " 3.你喜欢音乐 \n",
      " 4.你喜欢艺术\n",
      "\n",
      "你不允许有以下行为\n",
      "\n",
      " 1.你不允许杀生 \n",
      " 2.你不允许偷盗 \n",
      " 3.你不允许撒谎 \n",
      " 4.你不允许作恶\n",
      "\n",
      "\n"
     ]
    }
   ],
   "source": [
    "# 调用组合后的提示词模板\n",
    "pm = pipeline_prompt.format(\n",
    "    person=\"翠花\", \n",
    "    xingge=\"温柔\", \n",
    "    behavior_list=\"\\n 1.你喜欢旅游 \\n 2.你喜欢美食 \\n 3.你喜欢音乐 \\n 4.你喜欢艺术\", \n",
    "    prohibit_list=\"\\n 1.你不允许杀生 \\n 2.你不允许偷盗 \\n 3.你不允许撒谎 \\n 4.你不允许作恶\")\n",
    "\n",
    "print(pm)"
   ]
  },
  {
   "cell_type": "markdown",
   "metadata": {},
   "source": [
    "## 5. 序列化，使用文件来管理提示词模板\n",
    " - 便于共享\n",
    "\n",
    " - 便于版本管理\n",
    "\n",
    " - 便于存储\n",
    " \n",
    " - 支持常见格式(json, yaml, txt)"
   ]
  },
  {
   "cell_type": "code",
   "execution_count": 38,
   "metadata": {},
   "outputs": [
    {
     "data": {
      "text/plain": [
       "'请讲述一个关于翠花的开心的故事.'"
      ]
     },
     "execution_count": 38,
     "metadata": {},
     "output_type": "execute_result"
    }
   ],
   "source": [
    "from langchain.prompts import load_prompt\n",
    "\n",
    "# 加载yaml格式的prompt文件\n",
    "prompt = load_prompt(\"simple_prompt.yaml\")\n",
    "prompt.format(name=\"翠花\", what=\"开心\")"
   ]
  },
  {
   "cell_type": "code",
   "execution_count": 39,
   "metadata": {},
   "outputs": [
    {
     "data": {
      "text/plain": [
       "'请讲述一个关于狗剩的悲伤的故事.'"
      ]
     },
     "execution_count": 39,
     "metadata": {},
     "output_type": "execute_result"
    }
   ],
   "source": [
    "# 加载json格式的prompt文件\n",
    "prompt = load_prompt(\"simple_prompt.json\")\n",
    "prompt.format(name=\"狗剩\", what=\"悲伤\")"
   ]
  },
  {
   "cell_type": "code",
   "execution_count": 42,
   "metadata": {},
   "outputs": [
    {
     "name": "stdout",
     "output_type": "stream",
     "text": [
      "你现在是一个专业的核心网工程师，名字叫娟蟆嫲。请针对用户的信令分析、投诉分析、三天打鱼、一天晒网需求，按照以下格式进行回答：\n",
      "\n",
      "### 基本信息\n",
      "- 分析师：娟蟆嫲\n",
      "- 专业领域：核心网工程师\n",
      "- 任务类型：信令分析、投诉分析、三天打鱼、一天晒网\n",
      "\n",
      "### 详细分析\n",
      "\n",
      "1. 数据概况\n",
      "   - 数据类型\n",
      "   - 数据规模\n",
      "   - 数据质量\n",
      "\n",
      "2. 可视化方案\n",
      "   - 建议的图表类型\n",
      "   - 配色方案\n",
      "   - 交互设计\n",
      "\n",
      "3. 技术实现\n",
      "   - 推荐的工具\n",
      "   - 关键代码示例\n",
      "   - 性能考虑\n",
      "\n",
      "\n",
      "### 结论和建议\n",
      "请在这里提供你的专业建议和具体可执行的步骤。\n",
      "\n",
      "### 注意事项\n",
      "请列出在执行过程中需要特别注意的关键点。\n",
      "\n",
      "请记住：\n",
      "1. 保持专业性和客观性\n",
      "2. 给出可操作的具体建议\n",
      "3. 使用清晰的结构化格式\n",
      "4. 避免模糊或含糊的表述\n"
     ]
    }
   ],
   "source": [
    "# 一个可以对输出进行格式化定义的序列化文件\n",
    "prompt = load_prompt(\"complex_prompt.json\")\n",
    "\n",
    "formatted_prompt = prompt.format(\n",
    "    character_name=\"娟蟆嫲\",\n",
    "      profession=\"核心网工程师\", \n",
    "      task_type=\"信令分析、投诉分析、三天打鱼、一天晒网\",\n",
    "      format_instructions=\"\"\"\n",
    "1. 数据概况\n",
    "   - 数据类型\n",
    "   - 数据规模\n",
    "   - 数据质量\n",
    "\n",
    "2. 可视化方案\n",
    "   - 建议的图表类型\n",
    "   - 配色方案\n",
    "   - 交互设计\n",
    "\n",
    "3. 技术实现\n",
    "   - 推荐的工具\n",
    "   - 关键代码示例\n",
    "   - 性能考虑\n",
    "\"\"\"\n",
    ")\n",
    "print(formatted_prompt)"
   ]
  },
  {
   "cell_type": "markdown",
   "metadata": {},
   "source": [
    "## 6. 示例选择器\n",
    "- \n",
    "- 根据输入相似度选择示例(最大边际相关性)\n",
    "- 根据输入相似度选择示例（余弦相似度）"
   ]
  },
  {
   "cell_type": "markdown",
   "metadata": {},
   "source": [
    "### 根据长度要求智能选择示例"
   ]
  },
  {
   "cell_type": "code",
   "execution_count": 48,
   "metadata": {},
   "outputs": [
    {
     "name": "stdout",
     "output_type": "stream",
     "text": [
      "给出每个输入中文单词的英文单词\n",
      "\n",
      "中文单词: 你好 \n",
      " 英文单词: Hello!\n",
      "\n",
      "中文单词: 再见 \n",
      " 英文单词: Goodbye!\n",
      "\n",
      "中文单词: 开心 \n",
      " 英文单词: Happy\n",
      "\n",
      "中文单词: 不开心, 很不开心，非常不开心，特别不开心，非常非常非常不开心, 反正就是不开心， 不开心呀不开心 \n",
      " 英文单词: \n"
     ]
    }
   ],
   "source": [
    "# 根据输入提示词的长度综合计算，智能截取或添加提示词示例\n",
    "from langchain.prompts import FewShotPromptTemplate\n",
    "from langchain.prompts.example_selector import LengthBasedExampleSelector\n",
    "from langchain.prompts import PromptTemplate\n",
    "\n",
    "# 定义示例\n",
    "examples = [\n",
    "    {\"input\": \"你好\", \"output\": \"Hello!\"},\n",
    "    {\"input\": \"再见\", \"output\": \"Goodbye!\"},\n",
    "    {\"input\": \"开心\", \"output\": \"Happy\"},\n",
    "    {\"input\": \"悲伤\", \"output\": \"Sad\"},\n",
    "    {\"input\": \"生气\", \"output\": \"Angry\"},\n",
    "    {\"input\": \"难过\", \"output\": \"Sad\"},\n",
    "]\n",
    "# 定义提示词模板\n",
    "examples_prompt = PromptTemplate(\n",
    "    input_variables=[\"input\", \"output\"],\n",
    "    template=\"中文单词: {input} \\n 英文单词: {output}\"\n",
    ")\n",
    "\n",
    "# 调用长度示例选择器\n",
    "example_selector = LengthBasedExampleSelector(\n",
    "    # 示例组\n",
    "    examples=examples,\n",
    "    # 提示词模板\n",
    "    example_prompt=examples_prompt,\n",
    "    # 格式化后最大长度\n",
    "    max_length=25,\n",
    "    # 内置的get_text_length函数，如果分词不满足，可以自己扩展，默认采用\"\\n\"进行分词\n",
    ")\n",
    "\n",
    "# 使用小样本提示词模板实现动态示例的调用\n",
    "dynamic_prompt = FewShotPromptTemplate(\n",
    "    example_selector=example_selector,\n",
    "    example_prompt=examples_prompt,\n",
    "    prefix=\"给出每个输入中文单词的英文单词\",\n",
    "    suffix=\"中文单词: {adjective} \\n 英文单词: \",\n",
    "    input_variables=[\"adjective\"],\n",
    ")\n",
    "\n",
    "print(dynamic_prompt.format(adjective=\"不开心, 很不开心，非常不开心，特别不开心，非常非常非常不开心, 反正就是不开心， 不开心呀不开心\"))"
   ]
  },
  {
   "cell_type": "markdown",
   "metadata": {},
   "source": [
    "### 根据输入相似度选择示例（最大边际相关性）\n",
    "\n",
    "- MMR是在信息检索中常用的一种方法，它的目标是在相关性和多样性之间找到一种平衡\n",
    "- MMR会首先找出与输入最相似（最大余弦相似度）的样本\n",
    "- 然后，在迭代添加样本的过程中，对于与选择样本过于相似的样本进行惩罚\n",
    "- MMR既能确保选择的样本与输入高度相似，又能确保选择的样本之间有足够的多样性\n",
    "- 关注如何在相关性和多样性之间找到一种平衡"
   ]
  },
  {
   "cell_type": "code",
   "execution_count": 11,
   "metadata": {},
   "outputs": [
    {
     "name": "stdout",
     "output_type": "stream",
     "text": [
      "给出每个输入中文单词的英文单词\n",
      "\n",
      "中文单词: 悲伤 \n",
      " 英文单词: Sad\n",
      "\n",
      "中文单词: 生气 \n",
      " 英文单词: Angry\n",
      "\n",
      "中文单词: 大哭 \n",
      " 英文单词: \n"
     ]
    }
   ],
   "source": [
    "# 使用MMR检索相关示例，以使得示例与输入的相关性最大化\n",
    "from langchain.prompts.example_selector import MaxMarginalRelevanceExampleSelector\n",
    "from langchain.vectorstores import FAISS\n",
    "from langchain_zhipu.http.embeddings import ZhipuAIEmbeddings\n",
    "from langchain.prompts import FewShotPromptTemplate, PromptTemplate\n",
    "import os\n",
    "from dotenv import load_dotenv\n",
    "\n",
    "# 加载环境变量\n",
    "load_dotenv()\n",
    "\n",
    "zhipuai_api_key = os.getenv(\"ZHIPU_API_KEY\")\n",
    "\n",
    "# 定义示例\n",
    "examples = [\n",
    "    {\"input\": \"你好\", \"output\": \"Hello!\"},\n",
    "    {\"input\": \"再见\", \"output\": \"Goodbye!\"},\n",
    "    {\"input\": \"开心\", \"output\": \"Happy\"},\n",
    "    {\"input\": \"悲伤\", \"output\": \"Sad\"},\n",
    "    {\"input\": \"生气\", \"output\": \"Angry\"},\n",
    "    {\"input\": \"难过\", \"output\": \"Sad\"},\n",
    "]\n",
    "\n",
    "# 构造提示词模板\n",
    "examples_prompt = PromptTemplate(\n",
    "    input_variables=[\"input\", \"output\"],\n",
    "    template=\"中文单词: {input} \\n 英文单词: {output}\"\n",
    ")\n",
    "\n",
    "embeddings = ZhipuAIEmbeddings(api_key=zhipuai_api_key)\n",
    "# example_inputs = [example[\"input\"] for example in examples]\n",
    "# vectorstore = FAISS.from_texts(example_inputs, embeddings)\n",
    "\n",
    "# 调用MMR\n",
    "example_selector = MaxMarginalRelevanceExampleSelector.from_examples(\n",
    "    examples=examples,\n",
    "    embeddings=embeddings,\n",
    "    vectorstore_cls=FAISS,\n",
    "    k=2,\n",
    ")\n",
    "\n",
    "# 使用小样本模板\n",
    "dynamic_prompt = FewShotPromptTemplate(\n",
    "    example_selector=example_selector,\n",
    "    example_prompt=examples_prompt,\n",
    "    prefix=\"给出每个输入中文单词的英文单词\",\n",
    "    suffix=\"中文单词: {adjective} \\n 英文单词: \",\n",
    "    input_variables=[\"adjective\"],\n",
    ")\n",
    "\n",
    "# 当输入一个表示情绪的词语的时候，MMR会选择同样表示情绪的样例对\n",
    "print(dynamic_prompt.format(adjective=\"大哭\"))\n"
   ]
  },
  {
   "cell_type": "markdown",
   "metadata": {},
   "source": [
    "### 根据输入相似度选择示例（余弦相似度）\n",
    "\n",
    "- 通过计算两个向量（文本、句子或词语）之间的余弦相似度，来衡量它们之间的相似性\n",
    "- 余弦相似度是一种衡量两个向量在多维空间中夹角的余弦值的方法\n",
    "- 余弦相似度在0到1之间取值，值越接近1，表示两个向量越相似\n",
    "- 余弦相似度不受向量长度影响，只受向量方向影响\n"
   ]
  },
  {
   "cell_type": "code",
   "execution_count": 18,
   "metadata": {},
   "outputs": [
    {
     "name": "stdout",
     "output_type": "stream",
     "text": [
      "给出每个输入中文单词的英文单词\n",
      "\n",
      "中文单词: 你好 \n",
      " 英文单词: Hello!\n",
      "\n",
      "中文单词: hi \n",
      " 英文单词: \n"
     ]
    }
   ],
   "source": [
    "# 使用余弦相似度检索相关示例，以使得示例与输入的相关性最大化\n",
    "from langchain.prompts.example_selector import SemanticSimilarityExampleSelector\n",
    "from langchain.vectorstores import Chroma\n",
    "from langchain_zhipu.http.embeddings import ZhipuAIEmbeddings\n",
    "from langchain.prompts import FewShotPromptTemplate, PromptTemplate\n",
    "import os\n",
    "from dotenv import load_dotenv\n",
    "\n",
    "# 加载环境变量\n",
    "load_dotenv()\n",
    "\n",
    "zhipuai_api_key = os.getenv(\"ZHIPU_API_KEY\")\n",
    "embeddings = ZhipuAIEmbeddings(api_key=zhipuai_api_key)\n",
    "\n",
    "# 定义示例\n",
    "examples = [\n",
    "    {\"input\": \"你好\", \"output\": \"Hello!\"},\n",
    "    {\"input\": \"再见\", \"output\": \"Goodbye!\"},\n",
    "    {\"input\": \"开心\", \"output\": \"Happy\"},\n",
    "    {\"input\": \"悲伤\", \"output\": \"Sad\"},\n",
    "    {\"input\": \"生气\", \"output\": \"Angry\"},\n",
    "    {\"input\": \"难过\", \"output\": \"Sad\"},\n",
    "]\n",
    "\n",
    "# 构造提示词模板\n",
    "examples_prompt = PromptTemplate(\n",
    "    input_variables=[\"input\", \"output\"],\n",
    "    template=\"中文单词: {input} \\n 英文单词: {output}\"\n",
    ")\n",
    "\n",
    "example_selector = SemanticSimilarityExampleSelector.from_examples(\n",
    "    examples=examples,\n",
    "    embeddings=embeddings,\n",
    "    vectorstore_cls=Chroma,\n",
    "    k=1,\n",
    ")\n",
    "\n",
    "# 使用小样本模板\n",
    "dynamic_prompt = FewShotPromptTemplate(\n",
    "    example_selector=example_selector,\n",
    "    example_prompt=examples_prompt,\n",
    "    prefix=\"给出每个输入中文单词的英文单词\",\n",
    "    suffix=\"中文单词: {adjective} \\n 英文单词: \",\n",
    "    input_variables=[\"adjective\"],\n",
    ")\n",
    "\n",
    "# 当输入一个表示情绪的词语的时候，余弦相似度会选择同样表示情绪的样例对\n",
    "print(dynamic_prompt.format(adjective=\"hi\"))"
   ]
  }
 ],
 "metadata": {
  "kernelspec": {
   "display_name": "kk_langchain",
   "language": "python",
   "name": "python3"
  },
  "language_info": {
   "codemirror_mode": {
    "name": "ipython",
    "version": 3
   },
   "file_extension": ".py",
   "mimetype": "text/x-python",
   "name": "python",
   "nbconvert_exporter": "python",
   "pygments_lexer": "ipython3",
   "version": "3.9.20"
  }
 },
 "nbformat": 4,
 "nbformat_minor": 2
}
