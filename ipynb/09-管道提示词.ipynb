{
 "cells": [
  {
   "cell_type": "markdown",
   "metadata": {},
   "source": [
    "管道提示词可以将多个提示组合在一起。当您想要重复使用部分提示时，这会很有用。这可以通过 PipelinePrompt 来完成。\n",
    "\n",
    "PipelinePrompt 由两个主要部分组成：\n",
    "- 最终提示：返回的最终提示\n",
    "- 管道提示：元组列表，由字符串名称和提示模板组成。每个提示模板将被格式化，然后作为具有相同名称的变量传递到未来的提示模板。"
   ]
  },
  {
   "cell_type": "code",
   "execution_count": 1,
   "metadata": {},
   "outputs": [],
   "source": [
    "from langchain.prompts.pipeline import PipelinePromptTemplate\n",
    "from langchain.prompts.prompt import PromptTemplate"
   ]
  },
  {
   "cell_type": "code",
   "execution_count": 2,
   "metadata": {},
   "outputs": [],
   "source": [
    "full_template = \"\"\"\n",
    "{introduction},\n",
    "{example},\n",
    "{start}\n",
    "\"\"\"\n",
    "full_prompt = PromptTemplate.from_template(full_template)\n"
   ]
  },
  {
   "cell_type": "code",
   "execution_count": 3,
   "metadata": {},
   "outputs": [],
   "source": [
    "introduction_template = \"你正在扮演{person}的角色\"\n",
    "introduction_prompt = PromptTemplate.from_template(introduction_template)"
   ]
  },
  {
   "cell_type": "code",
   "execution_count": 5,
   "metadata": {},
   "outputs": [],
   "source": [
    "example_template = \"\"\"\n",
    "下面是一个交互示例：\n",
    "Q: {example_a}\n",
    "A: {example_b}\n",
    "\"\"\"\n",
    "example_prompt = PromptTemplate.from_template(example_template)\n"
   ]
  },
  {
   "cell_type": "code",
   "execution_count": 6,
   "metadata": {},
   "outputs": [],
   "source": [
    "start_template = \"\"\"现在正式开始：\n",
    "Q：{input}\n",
    "A：\n",
    "\"\"\"\n",
    "start_prompt = PromptTemplate.from_template(start_template)"
   ]
  },
  {
   "cell_type": "code",
   "execution_count": 8,
   "metadata": {},
   "outputs": [
    {
     "data": {
      "text/plain": [
       "['example_b', 'example_a', 'person', 'input']"
      ]
     },
     "execution_count": 8,
     "metadata": {},
     "output_type": "execute_result"
    }
   ],
   "source": [
    "# 组装\n",
    "input_prompts = [\n",
    "    (\"introduction\", introduction_prompt),\n",
    "    (\"example\", example_prompt),\n",
    "    (\"start\", start_prompt)\n",
    "]\n",
    "\n",
    "pipeline_prompt = PipelinePromptTemplate(final_prompt=full_prompt, pipeline_prompts=input_prompts)\n",
    "\n",
    "pipeline_prompt.input_variables"
   ]
  },
  {
   "cell_type": "code",
   "execution_count": 10,
   "metadata": {},
   "outputs": [
    {
     "name": "stdout",
     "output_type": "stream",
     "text": [
      "\n",
      "你正在扮演医生的角色,\n",
      "\n",
      "下面是一个交互示例：\n",
      "Q: 你叫什么名字？\n",
      "A: 我叫小明\n",
      ",\n",
      "现在正式开始：\n",
      "Q：你今年几岁？\n",
      "A：\n",
      "\n",
      "\n"
     ]
    }
   ],
   "source": [
    "print(pipeline_prompt.format(person=\"医生\", example_a=\"你叫什么名字？\", example_b=\"我叫小明\", input=\"你今年几岁？\"))"
   ]
  },
  {
   "cell_type": "code",
   "execution_count": 15,
   "metadata": {},
   "outputs": [
    {
     "data": {
      "text/plain": [
       "'作为李世民，我会回答：“朕生活在唐朝，社交媒体这一概念并不存在于当时的文化之中。但若以当时的形式而言，朕最重视的‘社交平台’便是朝堂与民间的沟通渠道，确保政令通达和民意上呈。”'"
      ]
     },
     "execution_count": 15,
     "metadata": {},
     "output_type": "execute_result"
    }
   ],
   "source": [
    "# 接入大模型\n",
    "from langchain_core.output_parsers import StrOutputParser\n",
    "from langchain_openai import ChatOpenAI\n",
    "\n",
    "api_key = \"xxx\"\n",
    "base_url = \"http://localhost:1234/v1\"\n",
    "\n",
    "chat = ChatOpenAI(api_key=api_key, base_url=base_url, temperature=0.7)\n",
    "\n",
    "output_parser = StrOutputParser()\n",
    "\n",
    "chain = pipeline_prompt | chat | output_parser\n",
    "\n",
    "chain.invoke({\"person\": \"李世民\", \"example_a\": \"你最喜欢的车\", \"example_b\": \"贞观八俊\", \"input\": \"你最喜欢的社交媒体？\"})"
   ]
  }
 ],
 "metadata": {
  "kernelspec": {
   "display_name": "kk_agent",
   "language": "python",
   "name": "python3"
  },
  "language_info": {
   "codemirror_mode": {
    "name": "ipython",
    "version": 3
   },
   "file_extension": ".py",
   "mimetype": "text/x-python",
   "name": "python",
   "nbconvert_exporter": "python",
   "pygments_lexer": "ipython3",
   "version": "3.10.15"
  }
 },
 "nbformat": 4,
 "nbformat_minor": 2
}
