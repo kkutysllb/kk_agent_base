{
 "cells": [
  {
   "cell_type": "markdown",
   "metadata": {},
   "source": [
    "## MessagePromptTemplate\n",
    "\n",
    "LangChain提供了不同类型的 MessagePromptTemplate 。最常用的是 AIMessagePromptTemplate 、 SystemMessagePromptTemplate 和 HumanMessagePromptTemplate ，它们分别创建 AI 消息、系统消息和人工消息。\n",
    "\n",
    "但是，如果聊天模型支持使用任意角色获取聊天消息，则可以使用 ChatMessagePromptTemplate ，它允许用户指定角色名称。"
   ]
  },
  {
   "cell_type": "code",
   "execution_count": 1,
   "metadata": {},
   "outputs": [
    {
     "data": {
      "text/plain": [
       "ChatMessage(content='愿上帝永远健康快乐，并与你同在！', additional_kwargs={}, response_metadata={}, role='user')"
      ]
     },
     "execution_count": 1,
     "metadata": {},
     "output_type": "execute_result"
    }
   ],
   "source": [
    "from langchain.prompts import ChatMessagePromptTemplate\n",
    "\n",
    "prompt = \"愿{subject}永远健康快乐，并与你同在！\"\n",
    "\n",
    "chat_message_prompt = ChatMessagePromptTemplate.from_template(\n",
    "    role=\"user\", template=prompt\n",
    ")\n",
    "\n",
    "chat_message_prompt.format(subject=\"上帝\")\n"
   ]
  },
  {
   "cell_type": "markdown",
   "metadata": {},
   "source": [
    "LangChain 还提供了 MessagesPlaceholder ，它使您可以完全控制格式化期间要呈现的消息。当您不确定消息提示模板应使用什么角色或希望在格式化期间插入消息列表时，这会很有用。"
   ]
  },
  {
   "cell_type": "code",
   "execution_count": 2,
   "metadata": {},
   "outputs": [],
   "source": [
    "from langchain.prompts import ChatPromptTemplate, HumanMessagePromptTemplate, MessagesPlaceholder\n",
    "\n",
    "prompt = \"用{word_count}个字，写一首关于{subject}的诗\"\n",
    "human_message_template = HumanMessagePromptTemplate.from_template(prompt)\n",
    "\n",
    "chat_prompt = ChatPromptTemplate.from_messages([\n",
    "    MessagesPlaceholder(variable_name=\"conversation\"),\n",
    "    human_message_template,\n",
    "])"
   ]
  },
  {
   "cell_type": "code",
   "execution_count": 4,
   "metadata": {},
   "outputs": [
    {
     "data": {
      "text/plain": [
       "[HumanMessage(content='学习英语最好的方式是什么？', additional_kwargs={}, response_metadata={}),\n",
       " AIMessage(content='学习英语最好的方式是多听多说多读多写。', additional_kwargs={}, response_metadata={}),\n",
       " HumanMessage(content='用10个字，写一首关于月亮的诗', additional_kwargs={}, response_metadata={})]"
      ]
     },
     "execution_count": 4,
     "metadata": {},
     "output_type": "execute_result"
    }
   ],
   "source": [
    "from langchain_core.messages import HumanMessage, AIMessage\n",
    "\n",
    "human_message = HumanMessage(content=\"学习英语最好的方式是什么？\")\n",
    "ai_message = AIMessage(content=\"学习英语最好的方式是多听多说多读多写。\")\n",
    "\n",
    "chat_prompt.format_prompt(conversation=[human_message, ai_message], word_count=10, subject=\"月亮\").to_messages()"
   ]
  },
  {
   "cell_type": "code",
   "execution_count": 9,
   "metadata": {},
   "outputs": [
    {
     "name": "stdout",
     "output_type": "stream",
     "text": [
      "金色冕旒悬天边，\n",
      "晨曦微照万物鲜。\n",
      "暖意融融洒大地，\n",
      "光芒万丈映心田。\n"
     ]
    }
   ],
   "source": [
    "# 接入大模型\n",
    "from langchain_core.output_parsers import StrOutputParser\n",
    "from langchain_openai import ChatOpenAI\n",
    "\n",
    "api_key = \"xxx\"\n",
    "base_url = \"http://localhost:1234/v1\"\n",
    "\n",
    "chat = ChatOpenAI(api_key=api_key, base_url=base_url, temperature=0.7)\n",
    "\n",
    "output_parser = StrOutputParser()\n",
    "\n",
    "chain = chat_prompt | chat | output_parser\n",
    "\n",
    "print(chain.invoke({\"conversation\": [human_message, ai_message], \"word_count\": 50, \"subject\": \"太阳\"}))"
   ]
  }
 ],
 "metadata": {
  "kernelspec": {
   "display_name": "kk_agent",
   "language": "python",
   "name": "python3"
  },
  "language_info": {
   "codemirror_mode": {
    "name": "ipython",
    "version": 3
   },
   "file_extension": ".py",
   "mimetype": "text/x-python",
   "name": "python",
   "nbconvert_exporter": "python",
   "pygments_lexer": "ipython3",
   "version": "3.10.15"
  }
 },
 "nbformat": 4,
 "nbformat_minor": 2
}
