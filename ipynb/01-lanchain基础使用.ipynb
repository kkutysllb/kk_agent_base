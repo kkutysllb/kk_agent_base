{
 "cells": [
  {
   "cell_type": "markdown",
   "metadata": {},
   "source": [
    "# LangChain 基础使用\n",
    "\n",
    "## LangChain\n",
    "\n",
    "LangChain 是一个开源框架，旨在帮助开发者使用大型语言模型（LLMs）和聊天模型构建端到端的应用程序。它提供了一套工具、组件和接口，以简化创建由这些模型支持的应用程序的过程。LangChain 的核心概念包括组件（Components）、链（Chains）、模型输入/输出（Model I/O）、数据连接（Data Connection）、内存（Memory）和代理（Agents）等。\n",
    "![image-2.png](attachment/image-2.png)\n",
    "\n",
    "以下是LangChain的一些关键特性和组件的详细解释：\n",
    "\n",
    "1. **组件（Components）**：\n",
    "   - **模型输入/输出（Model I/O）**：负责管理与语言模型的交互，包括输入（提示，Prompts）和格式化输出（输出解析器，Output Parsers）。\n",
    "   - **数据连接（Data Connection）**：管理向量数据存储、内容数据获取和转换，以及向量数据查询。\n",
    "   - **内存（Memory）**：用于存储和获取对话历史记录的功能模块。\n",
    "   - **链（Chains）**：串联Memory、Model I/O和Data Connection，以实现串行化的连续对话和推理流程。\n",
    "   - **代理（Agents）**：基于链进一步串联工具，将语言模型的能力和本地、云服务能力结合。\n",
    "   - **回调（Callbacks）**：提供了一个回调系统，可连接到请求的各个阶段，便于进行日志记录、追踪等数据导流。\n",
    "\n",
    "2. **模型输入/输出（Model I/O）**：\n",
    "   - **LLMs**：与大型语言模型进行接口交互，如OpenAI、Cohere等。\n",
    "   - **Chat Models**：聊天模型是语言模型的变体，它们以聊天信息列表为输入和输出，提供更结构化的消息。\n",
    "\n",
    "3. **数据连接（Data Connection）**：\n",
    "   - **向量数据存储（Vector Stores）**：用于构建私域知识库。\n",
    "   - **内容数据获取（Document Loaders）**：获取内容数据。\n",
    "   - **转换（Transformers）**：处理数据转换。\n",
    "   - **向量数据查询（Retrievers）**：查询向量数据。\n",
    "\n",
    "4. **内存（Memory）**：\n",
    "   - 用于存储对话历史记录，以便在连续对话中保持上下文。\n",
    "\n",
    "5. **链（Chains）**：\n",
    "   - 是组合在一起以完成特定任务的一系列组件。\n",
    "\n",
    "6. **代理（Agents）**：\n",
    "   - 基于链的工具，结合了语言模型的能力和本地、云服务。\n",
    "\n",
    "7. **回调（Callbacks）**：\n",
    "   - 提供了一个系统，可以在请求的不同阶段进行日志记录、追踪等。\n",
    "\n",
    "LangChain 的使用场景包括但不限于文档分析和摘要、聊天机器人、代码分析、工作流自动化、自定义搜索等。它允许开发者将语言模型与外部计算和数据源相结合，从而创建出能够理解和生成自然语言的应用程序。\n",
    "\n",
    "要开始使用LangChain，开发者需要导入必要的组件和工具，组合这些组件来创建一个可以理解、处理和响应用户输入的应用程序。LangChain 提供了多种组件，例如个人助理、文档问答、聊天机器人、查询表格数据、与API交互等，以支持特定的用例。\n",
    "\n",
    "LangChain 的官方文档提供了详细的指南和教程，帮助开发者了解如何设置和使用这个框架。开发者可以通过这些资源来学习如何构建和部署基于LangChain的应用程序。"
   ]
  },
  {
   "cell_type": "markdown",
   "metadata": {},
   "source": [
    "## LangChain可以构建哪些应用\n",
    "![image.png](attachment/image-3.png)\n",
    "\n",
    "LangChain 作为一个强大的框架，旨在帮助开发者利用大型语言模型（LLMs）构建各种端到端的应用程序。以下是一些可以使用 LangChain 开发的应用类型：\n",
    "\n",
    "1. **聊天机器人（Chatbots）**：\n",
    "   - 创建能够与用户进行自然对话的聊天机器人，用于客户服务、娱乐、教育或其他交互式场景。\n",
    "\n",
    "2. **个人助理（Personal Assistants）**：\n",
    "   - 开发智能个人助理，帮助用户管理日程、回答问题、执行任务等。\n",
    "\n",
    "3. **文档分析和摘要（Document Analysis and Summarization）**：\n",
    "   - 自动分析和总结大量文本数据，提取关键信息，为用户节省阅读时间。\n",
    "\n",
    "4. **内容创作（Content Creation）**：\n",
    "   - 利用语言模型生成文章、故事、诗歌、广告文案等创意内容。\n",
    "\n",
    "5. **代码分析和生成（Code Analysis and Generation）**：\n",
    "   - 帮助开发者自动生成代码片段，或者提供代码审查和优化建议。\n",
    "\n",
    "6. **工作流自动化（Workflow Automation）**：\n",
    "   - 通过自动化处理日常任务和工作流程，提高工作效率。\n",
    "\n",
    "7. **自定义搜索引擎（Custom Search Engines）**：\n",
    "   - 结合语言模型的能力，创建能够理解自然语言查询的搜索引擎。\n",
    "\n",
    "8. **教育和学习辅助（Educational and Learning Aids）**：\n",
    "   - 开发教育工具，如智能问答系统、学习辅导机器人等，以辅助学习和教学。\n",
    "\n",
    "9. **数据分析和报告（Data Analysis and Reporting）**：\n",
    "   - 使用语言模型处理和分析数据，生成易于理解的报告和摘要。\n",
    "\n",
    "10. **语言翻译（Language Translation）**：\n",
    "    - 利用语言模型进行实时翻译，支持多语言交流。\n",
    "\n",
    "11. **情感分析（Sentiment Analysis）**：\n",
    "    - 分析文本中的情感倾向，用于市场研究、社交媒体监控等。\n",
    "\n",
    "12. **知识库和问答系统（Knowledge Bases and Q&A Systems）**：\n",
    "    - 创建能够回答特定领域问题的智能问答系统。\n",
    "\n",
    "LangChain 的灵活性和模块化设计使得开发者可以根据特定需求定制和扩展应用程序。通过将语言模型与外部数据源和APIs结合，LangChain 能够支持广泛的应用场景，从而创造出更加智能和用户友好的软件解决方案。"
   ]
  },
  {
   "cell_type": "code",
   "execution_count": 3,
   "metadata": {},
   "outputs": [
    {
     "name": "stdout",
     "output_type": "stream",
     "text": [
      "陕西移动网管中心第一技术专家室负责人是李晓峰。李晓峰拥有丰富的通信行业经验，对移动通信技术有着深刻的理解和独到的见解。他带领的团队负责陕西移动的网络规划、优化和运维工作，为用户提供优质、稳定的网络服务。在他的带领下，团队不断突破技术难题，为陕西移动在网络领域的发展做出了突出贡献。\n"
     ]
    }
   ],
   "source": [
    "import zhipuai\n",
    "import os\n",
    "from dotenv import load_dotenv\n",
    "\n",
    "# 加载环境变量\n",
    "load_dotenv()\n",
    "\n",
    "\n",
    "# 设置 API key\n",
    "zhipuai_api_key = os.getenv(\"ZHIPU_API_KEY\")\n",
    "\n",
    "# 创建客户端\n",
    "client = zhipuai.ZhipuAI(api_key=zhipuai_api_key)\n",
    "\n",
    "# 发送请求\n",
    "response = client.chat.completions.create(\n",
    "    model=\"chatglm_turbo\",\n",
    "    messages=[\n",
    "        {\"role\": \"user\", \"content\": \"陕西移动网管中心第一技术专家室谁？介绍200字左右\"}\n",
    "    ],\n",
    "    temperature=0\n",
    ")\n",
    "print(response.choices[0].message.content)"
   ]
  },
  {
   "cell_type": "markdown",
   "metadata": {},
   "source": [
    "### 基本示例：提示+模型+输出解析器\n",
    "\n",
    "最基本和常见的用例是将提示模板和模型链接在一起。为了看看这是如何工作的，让我们创建一个接受主题并生成小红书短文的链："
   ]
  },
  {
   "cell_type": "code",
   "execution_count": 4,
   "metadata": {},
   "outputs": [
    {
     "name": "stdout",
     "output_type": "stream",
     "text": [
      "【今日头条】独家揭秘！网管中心第一专家，助您网络无忧！\n",
      "\n",
      "🔥🔥🔥喜大普奔！我国网管中心迎来了一位传奇人物——网管中心第一专家！他拥有丰富的网络管理经验，高超的技术水平，为我国网络安全保驾护航！\n",
      "\n",
      "🌟人物介绍：网管中心第一专家，原名李明，从事网络管理工作十余年，具备深厚的网络技术功底。他擅长解决各类网络难题，被誉为“网络界的百科全书”。\n",
      "\n",
      "🎯服务宗旨：网管中心第一专家始终坚持以客户为中心，为您提供全方位的网络管理服务。从网络规划、设备调试到网络安全、故障排查，他都能轻松应对。\n",
      "\n",
      "💡亮点特色：\n",
      "1. 技术精湛：网管中心第一专家精通各类网络技术，能够迅速解决网络故障，确保您的网络稳定运行。\n",
      "2. 经验丰富：他拥有丰富的实战经验，能够为您提供针对性的网络解决方案，助力企业降本增效。\n",
      "3. 响应迅速：网管中心第一专家团队24小时待命，一旦出现网络问题，我们将第一时间为您处理。\n",
      "\n",
      "🌍应用场景：\n",
      "1. 企业网络：帮助企业搭建稳定、高效的网络架构，提升办公效率。\n",
      "2. 数据中心：为数据中心提供专业运维服务，确保数据安全、稳定运行。\n",
      "3. 个人用户：为个人用户提供家庭网络优化、故障排查等服务，让您享受无忧的网络生活。\n",
      "\n",
      "📣限时优惠：为答谢广大客户的支持与厚爱，网管中心第一专家团队特推出以下优惠活动：\n",
      "1. 首次免费诊断：免费为企业或个人用户提供网络诊断服务。\n",
      "2. 优惠价格：签约长期服务，享受优惠价格。\n",
      "\n",
      "📞立即咨询：如果您有网络管理需求，请拨打我们的服务热线，网管中心第一专家团队期待与您携手共创美好未来！\n",
      "\n",
      "热线电话：400-xxx-xxxx\n",
      "地址：xxx市xxx区xxx路xxx号\n",
      "\n",
      "🔥🔥🔥网管中心第一专家，您值得信赖的网络管理专家！今日头条独家报道，敬请关注！\n"
     ]
    }
   ],
   "source": [
    "from langchain_core.output_parsers import StrOutputParser\n",
    "from langchain_core.prompts import ChatPromptTemplate\n",
    "import zhipuai\n",
    "import os\n",
    "from dotenv import load_dotenv\n",
    "\n",
    "# 设置 API key\n",
    "zhipuai_api_key = os.getenv(\"ZHIPU_API_KEY\")\n",
    "\n",
    "# 创建提示模板\n",
    "prompt = ChatPromptTemplate.from_template('请根据下面的主题，写一篇今日头条的营销短文: {topic}')\n",
    "\n",
    "# 首先格式化提示模板\n",
    "formatted_prompt = prompt.format(topic=\"网管中心第一专家\")\n",
    "\n",
    "# 然后使用格式化后的提示发送请求\n",
    "model_response = zhipuai.ZhipuAI(api_key=zhipuai_api_key).chat.completions.create(\n",
    "    model='chatglm_turbo',  \n",
    "    messages=[\n",
    "        {\n",
    "            \"role\": \"user\",\n",
    "            \"content\": formatted_prompt\n",
    "        }\n",
    "    ],\n",
    "    temperature=0.0\n",
    ")\n",
    "\n",
    "output_parser = StrOutputParser()\n",
    "result = output_parser.parse(model_response.choices[0].message.content)\n",
    "print(result)"
   ]
  },
  {
   "cell_type": "markdown",
   "metadata": {},
   "source": [
    "## Prompt 提示\n",
    "\n",
    "prompt 是一个 BasePromptTemplate ，这意味着它接受模板变量的字典并生成一个 PromptValue 。 PromptValue 是一个完整提示的包装器，可以传递给 LLM （它接受一个字符串作为输入）或 ChatModel （它接受一个序列作为输入的消息）。它可以与任何一种语言模型类型一起使用，因为它定义了生成 BaseMessage 和生成字符串的逻辑。"
   ]
  },
  {
   "cell_type": "code",
   "execution_count": 5,
   "metadata": {},
   "outputs": [
    {
     "data": {
      "text/plain": [
       "ChatPromptValue(messages=[HumanMessage(content='请根据下面的主题写一篇小红书营销的短文： 康师傅绿茶', additional_kwargs={}, response_metadata={})])"
      ]
     },
     "execution_count": 5,
     "metadata": {},
     "output_type": "execute_result"
    }
   ],
   "source": [
    "prompt = ChatPromptTemplate.from_template(\"请根据下面的主题写一篇小红书营销的短文： {topic}\")\n",
    "\n",
    "prompt_value = prompt.invoke({\"topic\": \"康师傅绿茶\"})\n",
    "prompt_value"
   ]
  },
  {
   "cell_type": "markdown",
   "metadata": {},
   "source": [
    "## Model 模型\n",
    "\n",
    "然后 PromptValue 被传递给 model 。在本例中，我们的 model 是 ChatModel ，这意味着它将输出 BaseMessage "
   ]
  },
  {
   "cell_type": "code",
   "execution_count": 7,
   "metadata": {},
   "outputs": [
    {
     "ename": "AttributeError",
     "evalue": "'Completion' object has no attribute 'invoke'",
     "output_type": "error",
     "traceback": [
      "\u001b[0;31m---------------------------------------------------------------------------\u001b[0m",
      "\u001b[0;31mAttributeError\u001b[0m                            Traceback (most recent call last)",
      "Cell \u001b[0;32mIn[7], line 1\u001b[0m\n\u001b[0;32m----> 1\u001b[0m message \u001b[38;5;241m=\u001b[39m \u001b[43mmodel_response\u001b[49m\u001b[38;5;241;43m.\u001b[39;49m\u001b[43minvoke\u001b[49m(prompt_value)\n\u001b[1;32m      2\u001b[0m message\n",
      "File \u001b[0;32m~/miniconda3/envs/kk_agent/lib/python3.10/site-packages/pydantic/main.py:892\u001b[0m, in \u001b[0;36mBaseModel.__getattr__\u001b[0;34m(self, item)\u001b[0m\n\u001b[1;32m    889\u001b[0m     \u001b[38;5;28;01mreturn\u001b[39;00m \u001b[38;5;28msuper\u001b[39m()\u001b[38;5;241m.\u001b[39m\u001b[38;5;21m__getattribute__\u001b[39m(item)  \u001b[38;5;66;03m# Raises AttributeError if appropriate\u001b[39;00m\n\u001b[1;32m    890\u001b[0m \u001b[38;5;28;01melse\u001b[39;00m:\n\u001b[1;32m    891\u001b[0m     \u001b[38;5;66;03m# this is the current error\u001b[39;00m\n\u001b[0;32m--> 892\u001b[0m     \u001b[38;5;28;01mraise\u001b[39;00m \u001b[38;5;167;01mAttributeError\u001b[39;00m(\u001b[38;5;124mf\u001b[39m\u001b[38;5;124m'\u001b[39m\u001b[38;5;132;01m{\u001b[39;00m\u001b[38;5;28mtype\u001b[39m(\u001b[38;5;28mself\u001b[39m)\u001b[38;5;241m.\u001b[39m\u001b[38;5;18m__name__\u001b[39m\u001b[38;5;132;01m!r}\u001b[39;00m\u001b[38;5;124m object has no attribute \u001b[39m\u001b[38;5;132;01m{\u001b[39;00mitem\u001b[38;5;132;01m!r}\u001b[39;00m\u001b[38;5;124m'\u001b[39m)\n",
      "\u001b[0;31mAttributeError\u001b[0m: 'Completion' object has no attribute 'invoke'"
     ]
    }
   ],
   "source": [
    "message = model_response.invoke(prompt_value)\n",
    "message"
   ]
  },
  {
   "cell_type": "markdown",
   "metadata": {},
   "source": [
    "## Output parser 输出解析器\n",
    "\n",
    "将 model 输出传递给 output_parser ，这是一个 BaseOutputParser ，意味着它接受字符串或 BaseMessage 作为输入。 StrOutputParser 特别简单地将任何输入转换为字符串。\n",
    "\n",
    "![image.png](attachment/image-4.png)"
   ]
  },
  {
   "cell_type": "code",
   "execution_count": 8,
   "metadata": {},
   "outputs": [
    {
     "ename": "NameError",
     "evalue": "name 'message' is not defined",
     "output_type": "error",
     "traceback": [
      "\u001b[0;31m---------------------------------------------------------------------------\u001b[0m",
      "\u001b[0;31mNameError\u001b[0m                                 Traceback (most recent call last)",
      "Cell \u001b[0;32mIn[8], line 1\u001b[0m\n\u001b[0;32m----> 1\u001b[0m output_parser\u001b[38;5;241m.\u001b[39minvoke(\u001b[43mmessage\u001b[49m)\n",
      "\u001b[0;31mNameError\u001b[0m: name 'message' is not defined"
     ]
    }
   ],
   "source": [
    "output_parser.invoke(message)"
   ]
  },
  {
   "cell_type": "markdown",
   "metadata": {},
   "source": [
    "#### 将上面代码修改为链式操作"
   ]
  },
  {
   "cell_type": "code",
   "execution_count": 9,
   "metadata": {},
   "outputs": [
    {
     "name": "stdout",
     "output_type": "stream",
     "text": [
      "【今日头条】夏日炎炎，爱媛果冻橙带你开启清凉之旅！\n",
      "\n",
      "🍊夏日炎炎，你是否在寻找一款既能解渴又健康的饮品？爱媛果冻橙，让你轻松享受清凉夏日！\n",
      "\n",
      "🌟爱媛果冻橙，源自日本爱媛县，精选优质果冻橙，采用传统工艺，保留了果冻橙的天然营养成分和独特口感。\n",
      "\n",
      "🍉产品特点：\n",
      "1. 纯天然：无添加色素、香精和防腐剂，让您吃得放心。\n",
      "2. 营养丰富：富含维生素C、钙、磷、铁等多种营养成分，滋养身心。\n",
      "3. 口感独特：果冻橙果肉饱满，口感滑嫩，果汁丰富，让你回味无穷。\n",
      "4. 方便携带：独立包装，随时随地享受美味。\n",
      "\n",
      "💡夏日炎炎，爱媛果冻橙为你带来以下惊喜：\n",
      "1. 清凉解渴：果冻橙富含水分，能有效补充夏日流失的水分，让你保持清爽。\n",
      "2. 提神醒脑：丰富的维生素C有助于提高免疫力，让你精神焕发。\n",
      "3. 美容养颜：果冻橙中的天然果胶能帮助排出体内毒素，让肌肤更加光滑细腻。\n",
      "\n",
      "🔥限时优惠，抢购从速！今日头条专属优惠码【头条橙意】，购买爱媛果冻橙，即可享受8折优惠！\n",
      "\n",
      "📣赶快行动，让爱媛果冻橙陪你度过一个清凉夏日！点击下方链接，立即购买👇\n",
      "\n",
      "【购买链接】🔗🔗🔗\n",
      "\n",
      "#爱媛果冻橙# #夏日清凉# #健康饮品# #头条橙意#\n"
     ]
    }
   ],
   "source": [
    "from langchain_core.output_parsers import StrOutputParser\n",
    "from langchain_core.prompts import ChatPromptTemplate\n",
    "from langchain_core.language_models.chat_models import BaseChatModel\n",
    "from langchain_core.messages import HumanMessage, AIMessage, SystemMessage, BaseMessage  \n",
    "from langchain_core.callbacks.manager import CallbackManagerForLLMRun\n",
    "from langchain_core.outputs import ChatGeneration, ChatResult\n",
    "from typing import Any, List, Optional\n",
    "import zhipuai\n",
    "import os\n",
    "from dotenv import load_dotenv\n",
    "from pydantic import Field, PrivateAttr\n",
    "\n",
    "class ZhipuAIChat(BaseChatModel):\n",
    "    api_key: str = Field(...)\n",
    "    _client: Any = PrivateAttr()\n",
    "    \n",
    "    def __init__(self, api_key: str, **kwargs):\n",
    "        super().__init__(api_key=api_key, **kwargs)\n",
    "        self._client = zhipuai.ZhipuAI(api_key=api_key)\n",
    "        \n",
    "    def _generate(\n",
    "        self, \n",
    "        messages: List[BaseMessage], \n",
    "        stop: Optional[List[str]] = None,\n",
    "        run_manager: Optional[CallbackManagerForLLMRun] = None,\n",
    "        **kwargs: Any,\n",
    "    ) -> ChatResult:\n",
    "        message_dicts = []\n",
    "        for message in messages:\n",
    "            if isinstance(message, HumanMessage):\n",
    "                role = \"user\"\n",
    "            elif isinstance(message, AIMessage):\n",
    "                role = \"assistant\"\n",
    "            elif isinstance(message, SystemMessage):\n",
    "                role = \"system\"\n",
    "            else:\n",
    "                raise ValueError(f\"Got unknown message type: {type(message)}\")\n",
    "            \n",
    "            message_dicts.append({\"role\": role, \"content\": message.content})\n",
    "        \n",
    "        response = self._client.chat.completions.create(\n",
    "            model=\"chatglm_turbo\",\n",
    "            messages=message_dicts,\n",
    "            temperature=0.0\n",
    "        )\n",
    "        \n",
    "        message = AIMessage(content=response.choices[0].message.content)\n",
    "        generation = ChatGeneration(message=message)\n",
    "        return ChatResult(generations=[generation])\n",
    "\n",
    "    @property\n",
    "    def _llm_type(self) -> str:\n",
    "        return \"zhipuai\"\n",
    "\n",
    "# 设置 API key\n",
    "load_dotenv()\n",
    "zhipuai_api_key = os.getenv(\"ZHIPU_API_KEY\")\n",
    "\n",
    "# 创建提示模板\n",
    "prompt = ChatPromptTemplate.from_template('请根据下面的主题，写一篇今日头条的营销短文: {topic}')\n",
    "\n",
    "# 创建模型实例\n",
    "model = ZhipuAIChat(api_key=zhipuai_api_key)\n",
    "\n",
    "# 创建输出解析器\n",
    "output_parser = StrOutputParser()\n",
    "\n",
    "# 构建链式操作\n",
    "chain = prompt | model | output_parser\n",
    "\n",
    "# 执行链式操作\n",
    "result = chain.invoke({\"topic\": \"爱媛果冻橙\"}, )\n",
    "print(result)"
   ]
  },
  {
   "cell_type": "markdown",
   "metadata": {},
   "source": [
    "##### 流式调用输出"
   ]
  },
  {
   "cell_type": "code",
   "execution_count": 14,
   "metadata": {},
   "outputs": [
    {
     "name": "stdout",
     "output_type": "stream",
     "text": [
      "【今日头条】夏日炎炎，爱媛果冻橙带你开启清凉之旅！\n",
      "\n",
      "🍊夏日炎炎，你是否在寻找一款既能解渴又健康的饮品？爱媛果冻橙，让你轻松享受清凉夏日！\n",
      "\n",
      "🌟爱媛果冻橙，源自日本爱媛县，精选优质果冻橙，采用传统工艺，保留了果冻橙的天然营养成分和独特口感。\n",
      "\n",
      "🍉产品特点：\n",
      "1. 纯天然：无添加色素、香精和防腐剂，让您吃得放心。\n",
      "2. 营养丰富：富含维生素C、钙、磷、铁等多种营养成分，滋养身心。\n",
      "3. 口感独特：果冻橙果肉饱满，口感滑嫩，果汁丰富，让你回味无穷。\n",
      "4. 方便携带：独立包装，随时随地享受美味。\n",
      "\n",
      "💡夏日炎炎，爱媛果冻橙为你带来以下惊喜：\n",
      "1. 清凉解渴：果冻橙富含水分，能有效补充夏日流失的水分，让你保持清爽。\n",
      "2. 提神醒脑：丰富的维生素C有助于提高免疫力，让你精神焕发。\n",
      "3. 美容养颜：果冻橙中的天然果胶能帮助排出体内毒素，让肌肤更加光滑细腻。\n",
      "\n",
      "🔥限时优惠，抢购从速！今日头条专属优惠码【头条橙意】，购买爱媛果冻橙，即可享受8折优惠！\n",
      "\n",
      "📣赶快行动，让爱媛果冻橙陪你度过一个清凉夏日！点击下方链接，立即购买👇\n",
      "\n",
      "【购买链接】🔗🔗🔗\n",
      "\n",
      "#爱媛果冻橙# #夏日清凉# #健康饮品# #头条橙意#"
     ]
    }
   ],
   "source": [
    "for chunk in chain.stream({\"topic\": \"爱媛果冻橙\"}):\n",
    "    print(chunk, end=\"\", flush=True)"
   ]
  },
  {
   "cell_type": "markdown",
   "metadata": {},
   "source": [
    "\n",
    "## 智谱AI\n",
    "### 使用智谱ai的GLM4\n",
    "### GLM-4\n",
    "\n",
    "\n",
    "新一代基座大模型GLM-4，整体性能相比GLM3全面提升60%，逼近GPT-4；支持更长上下文；更强的多模态；支持更快推理速度，更多并发，大大降低推理成本；同时GLM-4增强了智能体能力。\n",
    "\n",
    "\n",
    "基础能力（英文）：GLM-4 在 MMLU、GSM8K、MATH、BBH、HellaSwag、HumanEval等数据集上，分别达到GPT-4 94%、95%、91%、99%、90%、100%的水平。\n",
    "\n",
    "![image.png](https://zhipuaiadmin.aminer.cn/upload/c63e9d2c38338718e79735db348b4a0f.png)\n",
    "\n",
    "\n",
    "指令跟随能力：GLM-4在IFEval的prompt级别上中、英分别达到GPT-4的88%、85%的水平，在Instruction级别上中、英分别达到GPT-4的90%、89%的水平。\n",
    "\n",
    "![image.png](https://zhipuaiadmin.aminer.cn/upload/5125c6da6441a9ce4341ca6c9ccc9b5e.png)\n",
    "\n",
    "\n",
    "对齐能力：GLM-4在中文对齐能力上整体超过GPT-4。\n",
    "\n",
    "![image.png](https://zhipuaiadmin.aminer.cn/upload/e786863b39e483b2282bb94bac61d074.png)\n",
    "\n",
    "\n",
    "长文本能力：我们在LongBench（128K）测试集上对多个模型进行评测，GLM-4性能超过 Claude 2.1；在「大海捞针」（128K）实验中，GLM-4的测试结果为 128K以内全绿，做到100%精准召回。\n",
    "\n",
    "![image.png](https://zhipuaiadmin.aminer.cn/upload/77b81ce140053863d06c5c82b5f0fe18.png)\n",
    "\n",
    "\n",
    "多模态-文生图：CogView3在文生图多个评测指标上，相比DALLE3 约在 91.4% ~99.3%的水平之间。\n",
    "\n",
    "![image.png](https://zhipuaiadmin.aminer.cn/upload/405c46cab17aa3c1da98daa487264723.png)\n",
    "\n",
    "\n",
    "\n",
    "\n",
    "GLM-4 实现自主根据用户意图，自动理解、规划复杂指令，自由调用网页浏览器、Code Interpreter代码解释器和多模态文生图大模型，以完成复杂任务。\n",
    "简单来讲，即只需一个指令，GLM-4会自动分析指令，结合上下文选择决定调用合适的工具。\n",
    "\n",
    "\n",
    "GLM-4能够通过自动调用python解释器，进行复杂计算（例如复杂方程、微积分等），在GSM8K、MATH、Math23K等多个评测集上都取得了接近或同等GPT-4 All Tools的水平。\n",
    "\n",
    "\n",
    "GLM-4 能够自行规划检索任务、自行选择信息源、自行与信息源交互，在准确率上能够达到 78.08，是GPT-4 All Tools 的116%。\n",
    "\n",
    "\n",
    "GLM-4 能够根据用户提供的Function描述，自动选择所需 Function并生成参数，以及根据 Function 的返回值生成回复；同时也支持一次输入进行多次 Function 调用，支持包含中文及特殊符号的 Function 名字。这一方面GLM-4 All Tools 与 GPT-4 Turbo 相当。\n",
    "\n",
    "\n",
    "\n",
    "\n",
    "\n",
    "\n",
    "\n",
    "网站链接： https://www.zhipuai.cn/"
   ]
  },
  {
   "cell_type": "code",
   "execution_count": 18,
   "metadata": {},
   "outputs": [
    {
     "name": "stdout",
     "output_type": "stream",
     "text": [
      "以色列和巴勒斯坦之间的冲突是一个复杂的历史和地缘政治问题，根源深远，涉及宗教、民族、领土和政治等多个方面。\n",
      "\n",
      "1. 宗教因素：以色列和巴勒斯坦都声称对同一片土地拥有神圣的权利。犹太教、基督教和伊斯兰教都将这片土地视为圣地。犹太人认为这是上帝赐予他们的土地，而巴勒斯坦人主要是穆斯林，他们也认为这片土地是他们的家园。\n",
      "\n",
      "2. 民族因素：犹太人和巴勒斯坦阿拉伯人都认为自己是一个古老民族的合法代表。犹太人寻求建立一个民族国家，以保护他们免受历史上的迫害和屠杀。巴勒斯坦人则认为他们有权在自己的土地上生活，并反对犹太人移民和建立国家。\n",
      "\n",
      "3. 历史因素：1948年以色列建国后，发生了第一次中东战争，导致数十万巴勒斯坦人成为难民。此后，以色列和巴勒斯坦之间发生了多次冲突和战争，包括1967年的六日战争和1973年的赎罪日战争。\n",
      "\n",
      "4. 领土争端：以色列和巴勒斯坦之间的主要争端之一是领土问题。巴勒斯坦人要求建立一个以1967年边界为基础的独立国家，包括东耶路撒冷。而以色列在1967年战争中占领了这些地区，并在一些地方建立了定居点。\n",
      "\n",
      "5. 政治和安全问题：双方在政治解决方案和安全措施上存在分歧。以色列担心巴勒斯坦的激进组织，如哈马斯，会利用任何让步来发动攻击。巴勒斯坦人则对以色列的军事行动和定居点政策感到不满。\n",
      "\n",
      "6. 国际干预：国际社会的干预和立场也加剧了这一冲突。一些国家和组织支持以色列，而另一些则支持巴勒斯坦。\n",
      "\n",
      "这种复杂的交织导致了双方之间的深刻不信任和持续的冲突。尽管有多次和平谈判和协议，但至今未能实现持久的解决方案。\n"
     ]
    }
   ],
   "source": [
    "from zhipuai import ZhipuAI\n",
    "import os\n",
    "from dotenv import load_dotenv\n",
    "\n",
    "load_dotenv()\n",
    "zhipuai_api_key = os.getenv(\"ZHIPU_API_KEY\")\n",
    "\n",
    "# 构造提示词\n",
    "prompt = \"以色列为什么和巴勒斯坦过不去？他们之间有什么世仇？\"\n",
    "\n",
    "# 获得智谱ai的客户端实例\n",
    "client = ZhipuAI(api_key=zhipuai_api_key)\n",
    "response = client.chat.completions.create(\n",
    "    model=\"glm-4\",\n",
    "    messages=[\n",
    "        {\"role\": \"user\", \"content\": \"你好\"},\n",
    "        {\"role\": \"assistant\", \"content\": \"你好，我是一名AI助手，有什么可以帮你的吗？\"},\n",
    "        {\"role\": \"user\", \"content\": prompt}\n",
    "    ],\n",
    "    temperature=0.0\n",
    ")\n",
    "print(response.choices[0].message.content)"
   ]
  },
  {
   "cell_type": "code",
   "execution_count": 19,
   "metadata": {},
   "outputs": [
    {
     "data": {
      "text/plain": [
       "Completion(model='glm-4', created=1733283584, choices=[CompletionChoice(index=0, finish_reason='stop', message=CompletionMessage(content='以色列和巴勒斯坦之间的冲突是一个复杂的历史和地缘政治问题，根源深远，涉及宗教、民族、领土和政治等多个方面。\\n\\n1. 宗教因素：以色列和巴勒斯坦都声称对同一片土地拥有神圣的权利。犹太教、基督教和伊斯兰教都将这片土地视为圣地。犹太人认为这是上帝赐予他们的土地，而巴勒斯坦人主要是穆斯林，他们也认为这片土地是他们的家园。\\n\\n2. 民族因素：犹太人和巴勒斯坦阿拉伯人都认为自己是一个古老民族的合法代表。犹太人寻求建立一个民族国家，以保护他们免受历史上的迫害和屠杀。巴勒斯坦人则认为他们有权在自己的土地上生活，并反对犹太人移民和建立国家。\\n\\n3. 历史因素：1948年以色列建国后，发生了第一次中东战争，导致数十万巴勒斯坦人成为难民。此后，以色列和巴勒斯坦之间发生了多次冲突和战争，包括1967年的六日战争和1973年的赎罪日战争。\\n\\n4. 领土争端：以色列和巴勒斯坦之间的主要争端之一是领土问题。巴勒斯坦人要求建立一个以1967年边界为基础的独立国家，包括东耶路撒冷。而以色列在1967年战争中占领了这些地区，并在一些地方建立了定居点。\\n\\n5. 政治和安全问题：双方在政治解决方案和安全措施上存在分歧。以色列担心巴勒斯坦的激进组织，如哈马斯，会利用任何让步来发动攻击。巴勒斯坦人则对以色列的军事行动和定居点政策感到不满。\\n\\n6. 国际干预：国际社会的干预和立场也加剧了这一冲突。一些国家和组织支持以色列，而另一些则支持巴勒斯坦。\\n\\n这种复杂的交织导致了双方之间的深刻不信任和持续的冲突。尽管有多次和平谈判和协议，但至今未能实现持久的解决方案。', role='assistant', tool_calls=None))], request_id='202412041139319b628f8fbbcb4f8d', id='202412041139319b628f8fbbcb4f8d', usage=CompletionUsage(prompt_tokens=37, completion_tokens=398, total_tokens=435))"
      ]
     },
     "execution_count": 19,
     "metadata": {},
     "output_type": "execute_result"
    }
   ],
   "source": [
    "response"
   ]
  },
  {
   "cell_type": "markdown",
   "metadata": {},
   "source": [
    "#### 使用glm4的流式输出"
   ]
  },
  {
   "cell_type": "code",
   "execution_count": 22,
   "metadata": {},
   "outputs": [
    {
     "name": "stdout",
     "output_type": "stream",
     "text": [
      "以色列和巴勒斯坦之间的冲突是一个复杂的历史和地缘政治问题，根源深远，涉及宗教、民族、领土和政治等多个方面。\n",
      "\n",
      "1. 宗教因素：以色列和巴勒斯坦都声称对同一片土地拥有神圣的权利。犹太教、基督教和伊斯兰教都将这片土地视为圣地。犹太人认为这是上帝赐予他们的土地，而巴勒斯坦人主要是穆斯林，他们也认为这片土地是他们的家园。\n",
      "\n",
      "2. 民族因素：犹太人和巴勒斯坦阿拉伯人都认为自己是一个古老民族的合法代表。犹太人寻求建立一个民族国家，以逃避历史上的迫害和屠杀，而巴勒斯坦人则希望保持自己的土地和生活方式。\n",
      "\n",
      "3. 历史因素：1948年以色列建国后，巴勒斯坦人失去了大部分土地，数十万人成为难民。这一事件被称为“纳克巴”（Nakba），在阿拉伯语中意为“灾难”。此后，以色列和巴勒斯坦之间发生了多次战争和冲突。\n",
      "\n",
      "4. 领土争端：以色列和巴勒斯坦之间的主要争端之一是领土问题。以色列在1967年的六日战争中占领了约旦河西岸、加沙地带和东耶路撒冷，这些地区是巴勒斯坦人寻求建立自己国家的主要领土。\n",
      "\n",
      "5. 政治因素：双方在政治解决方案、边界、安全、难民问题和耶路撒冷地位等问题上存在严重分歧。这些分歧导致和平谈判多次破裂。\n",
      "\n",
      "6. 安全问题：以色列和巴勒斯坦之间的冲突也涉及到安全问题。以色列担心巴勒斯坦武装组织的火箭攻击和恐怖袭击，而巴勒斯坦人则对以色列的军事行动和定居点政策感到不安。\n",
      "\n",
      "这种复杂的交织导致了双方之间的深刻不信任和持续的冲突。尽管有多次和平尝试，包括奥斯陆协议和四方会谈等，但至今未能达成一个持久的解决方案。"
     ]
    }
   ],
   "source": [
    "# 构造提示词\n",
    "prompt = \"以色列为什么和巴勒斯坦过不去？他们之间有什么世仇？\"\n",
    "\n",
    "response = client.chat.completions.create(\n",
    "    model=\"glm-4\",\n",
    "    messages=[\n",
    "        {\"role\": \"user\", \"content\": \"你好\"},\n",
    "        {\"role\": \"assistant\", \"content\": \"你好，我是一名AI助手，有什么可以帮你的吗？\"},\n",
    "        {\"role\": \"user\", \"content\": prompt}\n",
    "    ],\n",
    "    temperature=0.0,\n",
    "    stream=True\n",
    ")\n",
    "for chunk in response:\n",
    "    print(chunk.choices[0].delta.content, end=\"\", flush=True)"
   ]
  },
  {
   "cell_type": "code",
   "execution_count": 29,
   "metadata": {},
   "outputs": [
    {
     "name": "stdout",
     "output_type": "stream",
     "text": [
      "【小红书营销短文】\n",
      "\n",
      "标题：胡琴之声，唤醒灵魂深处的民族情怀\n",
      "\n",
      "正文：\n",
      "\n",
      "亲爱的朋友们，你是否还记得那悠扬动听的胡琴声？它如诗如画，如梦如幻，仿佛能穿越时空，唤醒我们灵魂深处的民族情怀。\n",
      "\n",
      "今天，我要向大家推荐一款独具匠心的胡琴——【胡琴雅韵】。这款胡琴融合了传统工艺与现代设计，将古典之美与现代时尚完美结合，让你在演奏的同时，也能感受到民族文化的魅力。\n",
      "\n",
      "🎶 胡琴特点：\n",
      "1. 选材上乘：采用优质木材，音质纯净，音色优美；\n",
      "2. 工艺精湛：纯手工制作，细节之处彰显匠心；\n",
      "3. 设计独特：融合现代审美，时尚又不失古典韵味；\n",
      "4. 易学易用：适合初学者和专业人士，轻松上手，畅快演奏。\n",
      "\n",
      "🎉 限时优惠：\n",
      "为答谢广大消费者的支持，现在购买【胡琴雅韵】，即可享受8折优惠，还赠送价值300元的琴弦一套！\n",
      "\n",
      "📣 胡琴之美，等你来发现。让我们一起沉浸在悠扬的琴声中，感受民族文化的魅力，传承中华民族的优秀传统。\n",
      "\n",
      "赶快行动吧，让【胡琴雅韵】成为你人生中不可或缺的伴侣！点击下方链接，即可购买：\n",
      "\n",
      "【胡琴雅韵】购买链接：https://www.example.com/huqin\n",
      "\n",
      "让胡琴之声，陪伴你度过每一个美好时光！🎵🌟"
     ]
    }
   ],
   "source": [
    "from langchain_core.prompts import ChatPromptTemplate\n",
    "\n",
    "# 构造提示词\n",
    "prompt_template = ChatPromptTemplate.from_template(\"请写一篇小红书的营销短文: {topic}\")\n",
    "prompt = prompt_template.format(topic=\"胡琴\")\n",
    "\n",
    "response = client.chat.completions.create(\n",
    "    model=\"glm-4\",\n",
    "    messages=[\n",
    "        {\"role\": \"user\", \"content\": \"你好\"},\n",
    "        {\"role\": \"assistant\", \"content\": \"你好，我是一名AI助手，有什么可以帮你的吗？\"},\n",
    "        {\"role\": \"user\", \"content\": prompt}\n",
    "    ],\n",
    "    temperature=0.0,\n",
    "    stream=True\n",
    ")\n",
    "for chunk in response:\n",
    "    print(chunk.choices[0].delta.content, end=\"\", flush=True)"
   ]
  },
  {
   "cell_type": "markdown",
   "metadata": {},
   "source": [
    "## 将chatGLM4封装为langchain的模型\n",
    "\n",
    "GLM-130B（General Language Modeling）是一种大规模的双语预训练语言模型，它的原理基于Transformer架构，这种架构广泛用于自然语言处理任务，因为它能够有效地捕捉文本中的长距离依赖关系。\n",
    "\n",
    "### GLM-130B的原理：\n",
    "1. **Transformer架构**：GLM-130B采用了Transformer模型，该模型基于自注意力机制，能够处理变长序列数据，并在各个层次捕捉文本中的复杂关系。\n",
    "   \n",
    "2. **自注意力机制**：模型通过自注意力机制，可以同时考虑输入序列中的所有位置，为每个位置的词分配不同的注意力权重，从而更好地理解上下文。\n",
    "\n",
    "3. **预训练任务**：GLM-130B在预训练阶段使用了多种任务，如掩码语言模型（Masked Language Modeling, MLM）和下一句预测（Next Sentence Prediction, NSP），以提高模型对语言的理解能力。\n",
    "\n",
    "4. **双语能力**：GLM-130B特别强调中英双语能力，这意味着它可以同时处理中文和英文数据，为跨语言任务提供支持。\n",
    "\n",
    "5. **参数高效利用**：尽管参数量巨大，GLM-130B通过有效的训练策略和模型设计，使得参数能够高效地学习和表征语言。\n",
    "\n",
    "### 训练参数量：\n",
    "GLM-130B模型的参数量达到了1300亿（130B），这是一个非常庞大的参数规模，使得模型能够捕捉到极其复杂的语言特征和模式。\n",
    "\n",
    "这样的参数规模使得GLM-130B能够处理大规模的数据集，并在多种语言任务上表现出色。同时，为了能够运行在相对实惠的硬件上，GLM-130B还进行了INT4量化，以减少对计算资源的需求，同时尽量保持性能不受损失。\n",
    "\n",
    "总的来说，GLM-130B是一个具有强大表达能力的模型，旨在提供高质量的双语语言理解服务。"
   ]
  },
  {
   "cell_type": "code",
   "execution_count": 33,
   "metadata": {},
   "outputs": [
    {
     "name": "stdout",
     "output_type": "stream",
     "text": [
      "好的，这里有一个减肥的笑话：\n",
      "\n",
      "有一天，小明去健身房减肥，看到一位教练在跑步机上跑步。小明好奇地问：“教练，你每天这样跑，累不累啊？”\n",
      "\n",
      "教练回答：“其实还好，我只是在努力摆脱我身上的‘教练’两个字。”\n",
      "\n",
      "这个笑话调侃了教练自己也需要减肥的情况，希望大家能从中得到一些轻松和乐趣。减肥是一个需要毅力的事情，适当的幽默可以缓解压力哦。\n"
     ]
    }
   ],
   "source": [
    "import os\n",
    "import sys\n",
    "sys.path.append(\"./\")\n",
    "from dotenv import load_dotenv\n",
    "from kk_langchain_llms import kk_ChatGLM4\n",
    "\n",
    "load_dotenv()\n",
    "zhipuai_api_key = os.getenv(\"ZHIPU_API_KEY\")\n",
    "\n",
    "model = kk_ChatGLM4(api_key=zhipuai_api_key)\n",
    "\n",
    "result = model.invoke(\"请讲一个减肥的笑话\")\n",
    "print(result.content)\n"
   ]
  },
  {
   "cell_type": "markdown",
   "metadata": {},
   "source": [
    "##### 流式输出"
   ]
  },
  {
   "cell_type": "code",
   "execution_count": 41,
   "metadata": {},
   "outputs": [
    {
     "name": "stdout",
     "output_type": "stream",
     "text": [
      "米晓斌是个普通上班族，对投资股市非常感兴趣。有一天，他看到A股市场涨势喜人，心想这次一定要抓住机会大赚一笔。于是，他毫不犹豫地把自己多年的积蓄全部投入到了一只据说前景很好的股票上。\n",
      "\n",
      "买入后，米晓斌每天都盯着股票软件，关注着股票的涨跌。第一天，股票涨了5%，他高兴地跟朋友炫耀自己的投资眼光。然而，好景不长，第二天股票就开始下跌，跌幅达到了10%。\n",
      "\n",
      "米晓斌有点慌了，但他坚信这只是短暂的调整，于是继续持有。没想到，接下来几天，股票连续跌停，跌幅达到了30%。这时，米晓斌已经慌了神，但还是硬着头皮跟朋友说：“我只是长期投资，不care短期波动。”\n",
      "\n",
      "一个月后，米晓斌的股票跌幅已经达到了50%。他终于忍不住去找一位投资高手请教。高手告诉他：“你这种情况，我建议你采取‘鸵鸟战术’，就是闭上眼睛，把头埋进沙子里，假装什么都没发生。”\n",
      "\n",
      "米晓斌无奈地笑了笑，心想：早知道我就不把全部积蓄都投进去了，现在真是欲哭无泪啊！\n",
      "\n",
      "这个笑话告诉我们，投资理财需谨慎，不能盲目跟风，更不能把所有鸡蛋放在一个篮子里。合理分散投资，才能降低风险。"
     ]
    }
   ],
   "source": [
    "for deltaStr in model.stream(\"请讲一个米晓斌投资A股的故事\"):\n",
    "    print(deltaStr, end=\"\", flush=True)\n"
   ]
  }
 ],
 "metadata": {
  "kernelspec": {
   "display_name": "kk_langchain",
   "language": "python",
   "name": "python3"
  },
  "language_info": {
   "codemirror_mode": {
    "name": "ipython",
    "version": 3
   },
   "file_extension": ".py",
   "mimetype": "text/x-python",
   "name": "python",
   "nbconvert_exporter": "python",
   "pygments_lexer": "ipython3",
   "version": "3.10.16"
  }
 },
 "nbformat": 4,
 "nbformat_minor": 2
}
