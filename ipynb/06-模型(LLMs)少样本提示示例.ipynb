{
 "cells": [
  {
   "cell_type": "markdown",
   "metadata": {},
   "source": [
    "## 模型 (LLMs) 的类似少样本提示示例\n",
    "\n",
    "\n",
    "大模型是一种基于大量数据训练的人工智能模型，具有强大的下游任务自适应能力。相对于传统的人工智能模型，大模型可以处理更多的领域和任务，其优势主要体现在以下几个方面：\n",
    "1. 参数规模大：大模型拥有上亿甚至千亿级的参数，这使得它们可以处理更加复杂和抽象的任务，具有更强的泛化能力。\n",
    "2. 数据依赖性：大模型的训练依赖于大量的数据，这些数据覆盖了各种场景和情况，使得大模型能够更好地理解和处理各种复杂的问题。\n",
    "3. 适应性强：大模型可以适应各种不同的任务和领域，只需要通过少量的样本进行微调，就可以达到很好的效果。\n",
    "\n",
    "对于少量样本的提示，大模型具有以下优势：\n",
    "1. 快速适应：大模型具有很强的泛化能力，少量样本的提示可以使其快速适应新的任务和领域。\n",
    "2. 提高准确度：少量样本的提示可以减少模型的过拟合风险，提高模型的准确度。\n",
    "3. 节省资源：相对于重新训练模型，少量样本的提示可以节省大量的计算资源和时间。\n",
    "综上所述，少量样本的提示对于大模型的回答的准确度具有很大的优势，可以提高模型的适应性和准确度，同时节省资源。\n"
   ]
  },
  {
   "cell_type": "code",
   "execution_count": 2,
   "metadata": {},
   "outputs": [],
   "source": [
    "from langchain.prompts.few_shot import FewShotPromptTemplate\n",
    "from langchain.prompts import PromptTemplate\n",
    "\n",
    "\n",
    "examples = [\n",
    "    {\n",
    "        \"question\": \"乾隆和曹操谁活得更久?\",\n",
    "        \"answer\": \"\"\"\n",
    "这里是否需要跟进问题：是的。\n",
    "追问：乾隆去世时几岁？\n",
    "中间答案：乾隆去世时87岁。\n",
    "追问：曹操去世时几岁？\n",
    "中间答案：曹操去世时66岁。\n",
    "所以最终答案是：乾隆\n",
    "\"\"\",\n",
    "    },\n",
    "    {\n",
    "        \"question\": \"小米手机的创始人什么时候出生?\",\n",
    "        \"answer\": \"\"\"\n",
    "这里是否需要跟进问题：是的。\n",
    "追问：小米手机的创始人是谁？\n",
    "中间答案：小米手机 由 雷军 创立。\n",
    "跟进：雷军什么时候出生？\n",
    "中间答案：雷军出生于 1969 年 12 月 16 日。\n",
    "所以最终的答案是：1969 年 12 月 16 日\n",
    "\"\"\",\n",
    "    },\n",
    "    {\n",
    "        \"question\": \"乔治·华盛顿的外祖父是谁？\",\n",
    "        \"answer\": \"\"\"\n",
    "这里是否需要跟进问题：是的。\n",
    "追问：乔治·华盛顿的母亲是谁？\n",
    "中间答案：乔治·华盛顿的母亲是玛丽·鲍尔·华盛顿。\n",
    "追问：玛丽·鲍尔·华盛顿的父亲是谁？\n",
    "中间答案：玛丽·鲍尔·华盛顿的父亲是约瑟夫·鲍尔。\n",
    "所以最终答案是：约瑟夫·鲍尔\n",
    "\"\"\",\n",
    "    },\n",
    "    {\n",
    "        \"question\": \"《大白鲨》和《皇家赌场》的导演是同一个国家的吗？\",\n",
    "        \"answer\": \"\"\"\n",
    "这里是否需要跟进问题：是的。\n",
    "追问：《大白鲨》的导演是谁？\n",
    "中间答案：《大白鲨》的导演是史蒂文·斯皮尔伯格。\n",
    "追问：史蒂文·斯皮尔伯格来自哪里？\n",
    "中间答案：美国。\n",
    "追问：皇家赌场的导演是谁？\n",
    "中间答案：《皇家赌场》的导演是马丁·坎贝尔。\n",
    "跟进：马丁·坎贝尔来自哪里？\n",
    "中间答案：新西兰。\n",
    "所以最终的答案是：不会\n",
    "\"\"\",\n",
    "    },\n",
    "]"
   ]
  },
  {
   "cell_type": "code",
   "execution_count": 4,
   "metadata": {},
   "outputs": [
    {
     "name": "stdout",
     "output_type": "stream",
     "text": [
      "Question: 乾隆和曹操谁活得更久?\n",
      "Answer: \n",
      "这里是否需要跟进问题：是的。\n",
      "追问：乾隆去世时几岁？\n",
      "中间答案：乾隆去世时87岁。\n",
      "追问：曹操去世时几岁？\n",
      "中间答案：曹操去世时66岁。\n",
      "所以最终答案是：乾隆\n",
      "\n"
     ]
    }
   ],
   "source": [
    "example_prompt = PromptTemplate(\n",
    "    input_variables=[\"question\", \"answer\"],\n",
    "    template=\"Question: {question}\\nAnswer: {answer}\"\n",
    ")\n",
    "\n",
    "print(example_prompt.format(**examples[0]))"
   ]
  },
  {
   "cell_type": "code",
   "execution_count": 5,
   "metadata": {},
   "outputs": [
    {
     "name": "stdout",
     "output_type": "stream",
     "text": [
      "请根据以下问题和答案，回答问题：\n",
      "\n",
      "Question: 乾隆和曹操谁活得更久?\n",
      "Answer: \n",
      "这里是否需要跟进问题：是的。\n",
      "追问：乾隆去世时几岁？\n",
      "中间答案：乾隆去世时87岁。\n",
      "追问：曹操去世时几岁？\n",
      "中间答案：曹操去世时66岁。\n",
      "所以最终答案是：乾隆\n",
      "\n",
      "\n",
      "Question: 小米手机的创始人什么时候出生?\n",
      "Answer: \n",
      "这里是否需要跟进问题：是的。\n",
      "追问：小米手机的创始人是谁？\n",
      "中间答案：小米手机 由 雷军 创立。\n",
      "跟进：雷军什么时候出生？\n",
      "中间答案：雷军出生于 1969 年 12 月 16 日。\n",
      "所以最终的答案是：1969 年 12 月 16 日\n",
      "\n",
      "\n",
      "Question: 乔治·华盛顿的外祖父是谁？\n",
      "Answer: \n",
      "这里是否需要跟进问题：是的。\n",
      "追问：乔治·华盛顿的母亲是谁？\n",
      "中间答案：乔治·华盛顿的母亲是玛丽·鲍尔·华盛顿。\n",
      "追问：玛丽·鲍尔·华盛顿的父亲是谁？\n",
      "中间答案：玛丽·鲍尔·华盛顿的父亲是约瑟夫·鲍尔。\n",
      "所以最终答案是：约瑟夫·鲍尔\n",
      "\n",
      "\n",
      "Question: 《大白鲨》和《皇家赌场》的导演是同一个国家的吗？\n",
      "Answer: \n",
      "这里是否需要跟进问题：是的。\n",
      "追问：《大白鲨》的导演是谁？\n",
      "中间答案：《大白鲨》的导演是史蒂文·斯皮尔伯格。\n",
      "追问：史蒂文·斯皮尔伯格来自哪里？\n",
      "中间答案：美国。\n",
      "追问：皇家赌场的导演是谁？\n",
      "中间答案：《皇家赌场》的导演是马丁·坎贝尔。\n",
      "跟进：马丁·坎贝尔来自哪里？\n",
      "中间答案：新西兰。\n",
      "所以最终的答案是：不会\n",
      "\n",
      "\n",
      "问题：李白和白居易谁活得更久?\n",
      "答案：\n"
     ]
    }
   ],
   "source": [
    "prompt = FewShotPromptTemplate(\n",
    "    examples = examples,\n",
    "    example_prompt = example_prompt,\n",
    "    prefix = \"请根据以下问题和答案，回答问题：\",\n",
    "    suffix = \"问题：{question}\\n答案：\",\n",
    "    input_variables = [\"question\"],\n",
    ")\n",
    "\n",
    "print(prompt.format(question=\"李白和白居易谁活得更久?\"))"
   ]
  },
  {
   "cell_type": "code",
   "execution_count": 16,
   "metadata": {},
   "outputs": [
    {
     "data": {
      "text/plain": [
       "'这里是否需要跟进问题：是的。\\n追问：李白去世时几岁？\\n中间答案：关于李白的具体死因和确切年龄，历史记载并不十分明确，一般认为他大约活了61岁左右。\\n追问：李世民去世时几岁？\\n中间答案：李世民（唐太宗）去世时52岁。\\n所以最终的答案是：李白活得更久。需要注意的是关于李白的寿命存在一定的不确定性，但根据现有信息可以得出这样的结论。'"
      ]
     },
     "execution_count": 16,
     "metadata": {},
     "output_type": "execute_result"
    }
   ],
   "source": [
    "from langchain_core.output_parsers import StrOutputParser\n",
    "from langchain_core.prompts import ChatPromptTemplate\n",
    "from langchain_openai import ChatOpenAI\n",
    "\n",
    "api_key = \"xxx\"\n",
    "base_url = \"http://localhost:1234/v1\"\n",
    "\n",
    "chat = ChatOpenAI(api_key=api_key, base_url=base_url, temperature=0.7)\n",
    "\n",
    "output_parser = StrOutputParser()\n",
    "\n",
    "chain = prompt | chat | output_parser\n",
    "\n",
    "chain.invoke({\"question\": \"李白和李世民谁活得更久?\"})"
   ]
  },
  {
   "cell_type": "markdown",
   "metadata": {},
   "source": [
    "## ChromaDB\n",
    "ChromaDB 是一个开源的、基于 Python 的数据库，专门用于存储和查询时间序列数据。它是由 MongoDB 的创造者开发的一个高性能、可扩展的解决方案，适用于需要处理大规模时间序列数据的场景。ChromaDB 的设计目的是为了提高时间序列数据的查询速度和存储效率，同时保持灵活性和可扩展性。\n",
    "ChromaDB 的主要特点和作用包括：\n",
    "1. **时间序列数据支持**：ChromaDB 专门为时间序列数据设计，可以高效地存储和查询时间戳数据。\n",
    "2. **高性能**：ChromaDB 使用了多种优化技术，如 B-Tree 索引、时间分区等，以提高查询速度和数据写入速度。\n",
    "3. **可扩展性**：ChromaDB 支持水平扩展，可以通过添加更多的服务器来增加存储和处理能力。\n",
    "4. **灵活的数据模型**：虽然 ChromaDB 专为时间序列数据设计，但它也支持文档和键值数据模型，提供了灵活的数据存储选项。\n",
    "5. **丰富的查询功能**：ChromaDB 支持各种查询操作，包括聚合、过滤和排序等，这使得它可以轻松地处理复杂的分析任务。\n",
    "6. **时间索引**：ChromaDB 使用了一种高效的时间索引机制，可以快速地定位到特定时间点或时间范围的数据。\n",
    "7. **时间分区**：ChromaDB 支持时间分区，可以将数据自动或手动分区到不同的集合中，以优化查询性能和存储效率。\n",
    "8. **兼容 MongoDB**：ChromaDB 与 MongoDB 兼容，这意味着你可以使用类似 MongoDB 的 API 来操作 ChromaDB。\n",
    "在 Python 中，ChromaDB 通过其 Python 客户端库提供了一个简单的接口来与数据库进行交互。这使得 Python 开发者可以轻松地将 ChromaDB 集成到他们的应用程序中，以存储、管理和分析时间序列数据。ChromaDB 适用于需要快速、可扩展的时间序列数据存储和查询的各种应用，如监控系统、物联网、金融市场数据分析等。"
   ]
  },
  {
   "cell_type": "code",
   "execution_count": 17,
   "metadata": {},
   "outputs": [
    {
     "name": "stderr",
     "output_type": "stream",
     "text": [
      "/var/folders/f5/wwjgctq529v381m5rw2lrfr00000gn/T/ipykernel_53571/4279426456.py:4: LangChainDeprecationWarning: The class `HuggingFaceEmbeddings` was deprecated in LangChain 0.2.2 and will be removed in 1.0. An updated version of the class exists in the :class:`~langchain-huggingface package and should be used instead. To use it run `pip install -U :class:`~langchain-huggingface` and import as `from :class:`~langchain_huggingface import HuggingFaceEmbeddings``.\n",
      "  embeddings = HuggingFaceEmbeddings(model_name=\"/Users/libing/kk_LLMs/bge-large-zh-v1.5\")\n",
      "/Users/libing/miniconda3/envs/kk_agent/lib/python3.10/site-packages/tqdm/auto.py:21: TqdmWarning: IProgress not found. Please update jupyter and ipywidgets. See https://ipywidgets.readthedocs.io/en/stable/user_install.html\n",
      "  from .autonotebook import tqdm as notebook_tqdm\n"
     ]
    }
   ],
   "source": [
    "# 倒入词嵌入模型\n",
    "from langchain_community.embeddings.huggingface import HuggingFaceEmbeddings\n",
    "\n",
    "embeddings = HuggingFaceEmbeddings(model_name=\"/Users/libing/kk_LLMs/bge-large-zh-v1.5\")"
   ]
  },
  {
   "cell_type": "code",
   "execution_count": 23,
   "metadata": {},
   "outputs": [
    {
     "name": "stdout",
     "output_type": "stream",
     "text": [
      "与输入最相似的示例: [{'answer': '\\n这里是否需要跟进问题：是的。\\n追问：乾隆去世时几岁？\\n中间答案：乾隆去世时87岁。\\n追问：曹操去世时几岁？\\n中间答案：曹操去世时66岁。\\n所以最终答案是：乾隆\\n', 'question': '乾隆和曹操谁活得更久?'}]\n"
     ]
    }
   ],
   "source": [
    "from langchain.prompts.example_selector import SemanticSimilarityExampleSelector\n",
    "from langchain.vectorstores import Chroma\n",
    "\n",
    "example_selector = SemanticSimilarityExampleSelector.from_examples(\n",
    "    examples = examples,\n",
    "    embeddings = embeddings,\n",
    "    vectorstore_cls = Chroma,\n",
    "    k = 1\n",
    ")\n",
    "\n",
    "selected_examples = example_selector.select_examples({\"question\": \"李白和李世民谁活得更久?\"})\n",
    "\n",
    "print(f'与输入最相似的示例: {selected_examples}')\n"
   ]
  },
  {
   "cell_type": "code",
   "execution_count": 24,
   "metadata": {},
   "outputs": [
    {
     "name": "stdout",
     "output_type": "stream",
     "text": [
      "请根据以下问题和答案，回答问题：\n",
      "\n",
      "Question: 乾隆和曹操谁活得更久?\n",
      "Answer: \n",
      "这里是否需要跟进问题：是的。\n",
      "追问：乾隆去世时几岁？\n",
      "中间答案：乾隆去世时87岁。\n",
      "追问：曹操去世时几岁？\n",
      "中间答案：曹操去世时66岁。\n",
      "所以最终答案是：乾隆\n",
      "\n",
      "\n",
      "问题：李白和李世民谁活得更久?\n",
      "答案：\n"
     ]
    }
   ],
   "source": [
    "prompt = FewShotPromptTemplate(\n",
    "    example_selector = example_selector,\n",
    "    example_prompt = example_prompt,\n",
    "    prefix = \"请根据以下问题和答案，回答问题：\",\n",
    "    suffix = \"问题：{question}\\n答案：\",\n",
    "    input_variables = [\"question\"],\n",
    ")\n",
    "\n",
    "print(prompt.format(question=\"李白和李世民谁活得更久?\"))"
   ]
  },
  {
   "cell_type": "code",
   "execution_count": 25,
   "metadata": {},
   "outputs": [
    {
     "data": {
      "text/plain": [
       "'要回答这个问题，我们需要知道李白和李世民各自活了多少岁。\\n\\n首先，我们来确定李白的寿命。关于李白的具体生卒年月存在一些争议，但普遍接受的观点是他大约出生于701年，死于762年左右，享年约61-62岁之间。\\n\\n接着是李世民的寿命。李世民是中国唐朝的第二位皇帝，即唐太宗。他生于598年，卒于649年，享年52岁。\\n\\n根据这些信息，李白活得比李世民更久。所以最终答案是：李白活得更久。'"
      ]
     },
     "execution_count": 25,
     "metadata": {},
     "output_type": "execute_result"
    }
   ],
   "source": [
    "chain = prompt | chat | output_parser\n",
    "\n",
    "chain.invoke({\"question\": \"李白和李世民谁活得更久?\"})"
   ]
  }
 ],
 "metadata": {
  "kernelspec": {
   "display_name": "kk_agent",
   "language": "python",
   "name": "python3"
  },
  "language_info": {
   "codemirror_mode": {
    "name": "ipython",
    "version": 3
   },
   "file_extension": ".py",
   "mimetype": "text/x-python",
   "name": "python",
   "nbconvert_exporter": "python",
   "pygments_lexer": "ipython3",
   "version": "3.10.15"
  }
 },
 "nbformat": 4,
 "nbformat_minor": 2
}
