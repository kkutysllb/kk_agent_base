{
 "cells": [
  {
   "cell_type": "markdown",
   "metadata": {},
   "source": [
    "## LM Studio\n",
    "\n",
    "官网链接：https://lmstudio.ai/\n",
    "\n",
    "LM Studio 是一款桌面应用程序，专门用于本地部署和运行大型语言模型（LLMs）。这个应用的核心优势在于它极大地降低了运行这些复杂模型的技术门槛，让即使是没有编程基础的普通用户也能够轻松地在本地运行这些模型。\n",
    "主要特点包括：\n",
    "1. **模型选择与下载**：LM Studio 提供了一个用户友好的界面，用户可以直接从中选择和下载多种大型语言模型。这些模型主要托管在 HuggingFace 网站上，包括一些热门的开源模型，例如 Mistral 7B、Codex、Blender Bot、GPT-Neo 等。\n",
    "2. **简单直观的操作流程**：用户只需选择喜欢的模型，点击下载，等待下载完成后，通过 LM Studio 的对话界面加载本地模型，就可以开始与 AI 进行对话。\n",
    "3. **API 转换功能**：LM Studio 还内置了将本地模型快速封装成与 OpenAI 接口兼容的 API 功能。这意味着用户可以将基于 OpenAI 开发的应用程序直接指向本地模型，实现相同的功能，并且完全免费。\n",
    "4. **易用性和兼容性**：LM Studio 的设计考虑到了易用性和兼容性，使得用户可以轻松地在本地与各种高水平的 AI 模型进行交互。\n",
    "5. **本地化运行**：该应用支持在本地运行大语言模型，避免了将数据发送到远程服务器的需要，这对于注重数据隐私和安全的用户来说是一个重要的优势。\n",
    "总的来说，LM Studio 为普通用户提供了便捷的途径来探索和使用大型语言模型，无需复杂的环境配置或编程知识，即可在本地与高级 AI 模型进行交互。\n",
    "\n",
    "![image.png](attachment/image.png)\n",
    "\n",
    "## vLLM\n",
    "官网链接：https://docs.vllm.ai/en/latest/\n",
    "\n",
    "vLLM 是由加州大学伯克利分校的 LMSYS 组织开发的一个开源大语言模型高速推理框架。这个框架的主要目的是显著提升语言模型服务在实时场景下的吞吐量和内存使用效率。vLLM 是一个快速且易于使用的库，专门用于大语言模型（LLM）的推理和服务，并且可以与 HuggingFace 无缝集成。\n",
    "vLLM 框架的核心特点包括：\n",
    "1. **高性能**：vLLM 在吞吐量方面表现出色，其性能比 Hugging Face Transformers（HF）高出 24 倍，比文本生成推理（TGI）高出 3.5 倍。\n",
    "2. **创新技术**：vLLM 利用了全新的注意力算法「PagedAttention」，有效地管理注意力键和值，从而提高内存使用效率。\n",
    "3. **易用性**：vLLM 的主框架由 Python 实现，便于用户进行断点调试。其系统设计工整规范，结构清晰，便于初学者理解和上手。\n",
    "4. **关键组件**：vLLM 的核心模块包括 LLMEngine、Scheduler、BlockSpaceManager、Worker 和 CacheEngine。这些模块协同工作，实现了高效的推理和内存管理。\n",
    "5. **显存优化**：vLLM 框架通过其创新的显存管理原理，优化了 GPU 和 CPU 内存的使用，从而提高了系统的性能和效率。\n",
    "6. **应用广泛**：vLLM 可用于各种自然语言处理和机器学习任务，如文本生成、机器翻译等，为研究人员和开发者提供了一个强大的工具。\n",
    "综上所述，vLLM 是一个高效、易用且具有创新技术的开源大语言模型推理框架，适用于广泛的自然语言处理和机器学习应用。\n",
    "\n",
    "## API for Open LLMs\n",
    "GitHub地址：https://github.com/xusenlinzy/api-for-open-llm\n",
    "\n",
    "API for Open LLMs 是一个强大的开源大模型统一后端接口，它提供与 OpenAI 相似的响应。这个接口支持多种开源大模型，如 ChatGLM、Chinese-LLaMA-Alpaca、Phoenix、MOSS 等。它允许用户通过简单的 API 调用来使用这些模型，从而提供了一种便捷的方式来运行和部署大型语言模型。\n",
    "API for Open LLMs 的主要特点包括：\n",
    "1. **模型支持**：支持多种流行的开源大模型，用户可以根据需要选择不同的模型。\n",
    "2. **易用性**：提供简单易用的接口，用户可以通过调用这些接口来使用模型的功能，无需关心底层的实现细节。\n",
    "3. **高效稳定**：采用了先进的深度学习技术，具有高效稳定的运行性能，可以快速处理大量的语言任务。\n",
    "4. **功能丰富**：提供包括文本生成、问答、翻译等多种语言处理功能，满足不同场景下的需求。\n",
    "5. **可扩展性**：具有良好的可扩展性，用户可以根据自己的需求对模型进行微调或重新训练，以适应特定的应用场景。\n",
    "API for Open LLMs 的使用方法非常简单。用户首先需要注册并登录官网获取 API 密钥，然后通过调用相应的 API 接口来使用所需的功能。例如，进行文本翻译时，用户只需调用翻译功能的 API 接口，传递需要翻译的文本作为输入参数，即可获取翻译后的结果。\n",
    "此外，API for Open LLMs 还支持通过 Docker 启动，用户可以构建 Docker 镜像并启动容器来运行服务。它还提供了本地启动的选项，用户可以在本地安装必要的依赖并运行后端服务。\n",
    "总的来说，API for Open LLMs 是一个功能强大、高效稳定且易于使用的开源大模型接口，适用于各种自然语言处理任务。\n"
   ]
  },
  {
   "cell_type": "code",
   "execution_count": 5,
   "metadata": {},
   "outputs": [
    {
     "name": "stdout",
     "output_type": "stream",
     "text": [
      "中国股市的问题是多方面的，包括但不限于以下几点：\n",
      "1. 市场机制不完善：中国的股票市场存在一些制度上的缺陷，如信息披露不充分、监管力度不够等。这些问题导致了一些上市公司财务造假和操纵股价的行为，影响了市场的公平性和透明度。\n",
      "2. 投资者结构不合理：中国股市的投资者以散户为主，机构投资者占比相对较低。这导致了市场波动较大，容易受到情绪影响，也使得一些不良行为更容易发生。\n",
      "3. 经济环境不稳定：中国经济正处于转型期，面临着许多挑战和不确定性，如贸易摩擦、债务问题等。这些因素对股市产生了负面影响。\n",
      "4. 政策干预过多：中国政府在股市中扮演着重要角色，有时会通过政策手段来影响市场走势。这种干预可能会导致市场扭曲，不利于长期稳定发展。\n",
      "5. 估值过高：中国股市的市盈率普遍较高，部分股票存在泡沫现象。这使得投资者对风险的认知不足，容易受到短期波动的影响。\n",
      "6. 缺乏长期投资理念：许多投资者更关注短期收益，而不是公司的基本面和长期价值。这种短视行为加剧了市场的波动性，不利于市场健康发展。\n",
      "7. 金融创新不足：中国股市的创新能力相对较弱，金融产品种类较少，无法满足不同类型投资者的需求。这限制了市场的发展空间和活力。\n",
      "8. 投资者教育缺失：许多投资者缺乏基本的证券知识，容易受到误导或陷入骗局。这使得市场风险进一步加剧。\n",
      "9. 国际影响力不足：中国股市在国际上的地位相对较低，与发达国家相比仍有较大差距。这导致了中国股市在全球范围内的吸引力有限。\n",
      "10. 监管力度不够：尽管近年来中国政府加强了对证券市场的监管，但仍存在一些漏洞和不足之处。这使得一些违法违规行为得以滋生，损害了市场秩序和投资者利益。"
     ]
    }
   ],
   "source": [
    "from langchain_openai import ChatOpenAI\n",
    "from langchain_core.output_parsers import StrOutputParser\n",
    "from langchain_core.prompts import ChatPromptTemplate\n",
    "\n",
    "openai_api_key = \"EMPTY\"\n",
    "openai_api_base = \"http://127.0.0.1:1234/v1\"\n",
    "\n",
    "chat = ChatOpenAI(\n",
    "    api_key=openai_api_key,\n",
    "    base_url=openai_api_base,\n",
    "    temperature=0.0,\n",
    ")\n",
    "prompt = ChatPromptTemplate.from_template(\"{topic}\")\n",
    "\n",
    "output_parser = StrOutputParser()\n",
    "chain = prompt | chat | output_parser\n",
    "\n",
    "for chunk in chain.stream({\"topic\": \"中国股市到底是什么问题才会全球垫底？\"}):\n",
    "    print(chunk, end=\"\", flush=True)\n"
   ]
  },
  {
   "cell_type": "code",
   "execution_count": 6,
   "metadata": {},
   "outputs": [
    {
     "name": "stdout",
     "output_type": "stream",
     "text": [
      "很抱歉，我的回答可能让你感到不快。我理解你的观点，但作为一个AI助手，我只是提供客观的信息和建议，无法对特定机构进行评价或判断。如果你有任何其他问题需要帮助，请随时告诉我。"
     ]
    }
   ],
   "source": [
    "for chunk in chain.stream({\"topic\": \"我觉得你说的不对!机构太垃圾才导致如此局面\"}):\n",
    "    print(chunk, end=\"\", flush=True)"
   ]
  }
 ],
 "metadata": {
  "kernelspec": {
   "display_name": "kk_agent",
   "language": "python",
   "name": "python3"
  },
  "language_info": {
   "codemirror_mode": {
    "name": "ipython",
    "version": 3
   },
   "file_extension": ".py",
   "mimetype": "text/x-python",
   "name": "python",
   "nbconvert_exporter": "python",
   "pygments_lexer": "ipython3",
   "version": "3.10.15"
  }
 },
 "nbformat": 4,
 "nbformat_minor": 2
}
