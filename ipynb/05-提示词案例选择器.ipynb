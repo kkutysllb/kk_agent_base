{
 "cells": [
  {
   "cell_type": "markdown",
   "metadata": {},
   "source": [
    "## Select by length\n",
    "\n",
    "此示例选择器根据长度选择要使用的示例。当您担心构建的提示会超过上下文窗口的长度时，这非常有用。对于较长的输入，它将选择较少的示例来包含，而对于较短的输入，它将选择更多的示例。"
   ]
  },
  {
   "cell_type": "code",
   "execution_count": 1,
   "metadata": {},
   "outputs": [],
   "source": [
    "from langchain.prompts import PromptTemplate, FewShotPromptTemplate\n",
    "from langchain.prompts.example_selector import LengthBasedExampleSelector\n",
    "\n",
    "\n",
    "# 创建一个反义词的任务示例\n",
    "examples = [\n",
    "    {\"input\": \"开心\", \"output\": \"伤心\"},\n",
    "    {\"input\": \"高\", \"output\": \"矮\"},\n",
    "    {\"input\": \"粗\", \"output\": \"细\"},\n",
    "    {\"input\": \"下雨天\", \"output\": \"晴天\"},\n",
    "]\n",
    "\n",
    "example_prompt = PromptTemplate(\n",
    "    input_variables=[\"input\", \"output\"],\n",
    "    template=\"Input: {input}\\nOutput: {output}\",\n",
    ")\n",
    "\n",
    "example_selector = LengthBasedExampleSelector(\n",
    "    # 可供选择的示例\n",
    "    examples=examples,\n",
    "    # 示例的提示词模板\n",
    "    example_prompt=example_prompt,\n",
    "    # 示例的最大长度\n",
    "    # 长度由下面get_text_length函数计算\n",
    "    max_length=25\n",
    "    # 用于获取字符串长度的函数，使用\n",
    "    # 确定要包含哪些示例。被注释掉是因为\n",
    "    # 如果未指定，则将其作为默认值提供。\n",
    "    # get_text_length: Callable[[str], int] = lambda x: len(re.split(\"\\n| \", x))\n",
    ")\n",
    "\n",
    "# 创建一个动态提示词模板\n",
    "dynamic_prompt = FewShotPromptTemplate(\n",
    "    example_selector=example_selector,\n",
    "    example_prompt=example_prompt,\n",
    "    prefix=\"给出每个输入的反义词\",\n",
    "    suffix=\"Input: {adjective}\\nOutput: \",\n",
    "    input_variables=[\"adjective\"],\n",
    ")\n"
   ]
  },
  {
   "cell_type": "code",
   "execution_count": 2,
   "metadata": {},
   "outputs": [
    {
     "name": "stdout",
     "output_type": "stream",
     "text": [
      "给出每个输入的反义词\n",
      "\n",
      "Input: 开心\n",
      "Output: 伤心\n",
      "\n",
      "Input: 高\n",
      "Output: 矮\n",
      "\n",
      "Input: 粗\n",
      "Output: 细\n",
      "\n",
      "Input: 下雨天\n",
      "Output: 晴天\n",
      "\n",
      "Input: happy\n",
      "Output: \n"
     ]
    }
   ],
   "source": [
    "# 输入量较小时，给出所有的示例\n",
    "print(dynamic_prompt.format(adjective=\"happy\"))"
   ]
  },
  {
   "cell_type": "code",
   "execution_count": 3,
   "metadata": {},
   "outputs": [
    {
     "name": "stdout",
     "output_type": "stream",
     "text": [
      "给出每个输入的反义词\n",
      "\n",
      "Input: 开心\n",
      "Output: 伤心\n",
      "\n",
      "Input: happy happy happy happy happy happy happy happy happy happy happy happy happy happy happy happy happy happy happy happy\n",
      "Output: \n"
     ]
    }
   ],
   "source": [
    "# 输入量较大时，给出一个示例\n",
    "long_string = \" \".join([\"happy\"] * 20)\n",
    "print(dynamic_prompt.format(adjective=long_string))\n"
   ]
  },
  {
   "cell_type": "code",
   "execution_count": 4,
   "metadata": {},
   "outputs": [
    {
     "name": "stdout",
     "output_type": "stream",
     "text": [
      "给出每个输入的反义词\n",
      "\n",
      "Input: 开心\n",
      "Output: 伤心\n",
      "\n",
      "Input: 高\n",
      "Output: 矮\n",
      "\n",
      "Input: 粗\n",
      "Output: 细\n",
      "\n",
      "Input: 下雨天\n",
      "Output: 晴天\n",
      "\n",
      "Input: 胖\n",
      "Output: 瘦\n",
      "\n",
      "Input: 热情\n",
      "Output: \n"
     ]
    }
   ],
   "source": [
    "# 添加一个新的示例\n",
    "new_example = {\"input\": \"胖\", \"output\": \"瘦\"}\n",
    "dynamic_prompt.example_selector.add_example(new_example)\n",
    "print(dynamic_prompt.format(adjective=\"热情\"))\n"
   ]
  },
  {
   "cell_type": "code",
   "execution_count": 5,
   "metadata": {},
   "outputs": [
    {
     "data": {
      "text/plain": [
       "'冷淡如冰'"
      ]
     },
     "execution_count": 5,
     "metadata": {},
     "output_type": "execute_result"
    }
   ],
   "source": [
    "# 与本地部署的大模型配合使用\n",
    "from langchain_core.output_parsers import StrOutputParser\n",
    "from langchain_core.prompts import ChatPromptTemplate\n",
    "from langchain_openai import ChatOpenAI\n",
    "\n",
    "api_key = \"xxx\"\n",
    "base_url = \"http://localhost:1234/v1\"\n",
    "chat = ChatOpenAI(api_key=api_key, base_url=base_url, temperature=0.7)\n",
    "\n",
    "output_parser = StrOutputParser()\n",
    "\n",
    "chain = dynamic_prompt | chat | output_parser\n",
    "\n",
    "chain.invoke({\"adjective\": \"热情似火\"})"
   ]
  },
  {
   "cell_type": "markdown",
   "metadata": {},
   "source": [
    "## 最大余弦相似度的嵌入示例\n",
    "MaxMarginalRelevanceExampleSelector 根据与输入最相似的示例组合来选择示例，同时还针对多样性进行优化。它通过查找与输入具有最大余弦相似度的嵌入示例来实现这一点，然后迭代地添加它们，同时惩罚它们与已选择示例的接近程度。\n",
    "\n",
    "```\n",
    "pip install sentence-transformers\n",
    "pip install faiss-cpu\n",
    "```"
   ]
  },
  {
   "cell_type": "code",
   "execution_count": 7,
   "metadata": {},
   "outputs": [
    {
     "name": "stdout",
     "output_type": "stream",
     "text": [
      "给出每个输入的反义词\n",
      "\n",
      "Input: 开心\n",
      "Output: 伤心\n",
      "\n",
      "Input: 粗\n",
      "Output: 细\n",
      "\n",
      "Input: sad\n",
      "Output: \n"
     ]
    }
   ],
   "source": [
    "from sentence_transformers import SentenceTransformer\n",
    "from langchain.prompts import PromptTemplate, FewShotPromptTemplate\n",
    "from langchain.prompts.example_selector import MaxMarginalRelevanceExampleSelector\n",
    "from langchain_community.vectorstores import FAISS\n",
    "import sys\n",
    "sys.path.append(\"../\")\n",
    "\n",
    "from langchain_community.embeddings.huggingface import HuggingFaceEmbeddings\n",
    "\n",
    "# 确保提供本地模型路径\n",
    "embeddings_path = \"/Users/libing/kk_LLMs/bge-large-zh-v1.5\"\n",
    "\n",
    "# 在 HuggingFaceEmbeddings 中明确设置本地路径\n",
    "embeddings = HuggingFaceEmbeddings(model_name=embeddings_path)\n",
    "\n",
    "\n",
    "# 示例 Prompt 模板\n",
    "example_prompt = PromptTemplate(\n",
    "    input_variables=[\"input\", \"output\"],\n",
    "    template=\"Input: {input}\\nOutput: {output}\",\n",
    ")\n",
    "\n",
    "# 示例数据\n",
    "examples = [\n",
    "    {\"input\": \"开心\", \"output\": \"伤心\"},\n",
    "    {\"input\": \"高\", \"output\": \"矮\"},\n",
    "    {\"input\": \"粗\", \"output\": \"细\"},\n",
    "    {\"input\": \"下雨天\", \"output\": \"晴天\"},\n",
    "]\n",
    "\n",
    "# 使用 Max Marginal Relevance Example Selector\n",
    "example_selector = MaxMarginalRelevanceExampleSelector.from_examples(\n",
    "    examples=examples,\n",
    "    embeddings=embeddings,\n",
    "    vectorstore_cls=FAISS,\n",
    "    k=2\n",
    ")\n",
    "\n",
    "# FewShot Prompt 模板\n",
    "mmr_prompt = FewShotPromptTemplate(\n",
    "    example_selector=example_selector,\n",
    "    example_prompt=example_prompt,\n",
    "    prefix=\"给出每个输入的反义词\",\n",
    "    suffix=\"Input: {adjective}\\nOutput: \",\n",
    "    input_variables=[\"adjective\"],\n",
    ")\n",
    "\n",
    "# 测试 Prompt\n",
    "formatted_prompt = mmr_prompt.format(adjective=\"sad\")\n",
    "print(formatted_prompt)\n"
   ]
  },
  {
   "cell_type": "code",
   "execution_count": 8,
   "metadata": {},
   "outputs": [
    {
     "data": {
      "text/plain": [
       "'happy'"
      ]
     },
     "execution_count": 8,
     "metadata": {},
     "output_type": "execute_result"
    }
   ],
   "source": [
    "chain = mmr_prompt | chat | output_parser\n",
    "chain.invoke({\"adjective\": \"sad\"})"
   ]
  },
  {
   "cell_type": "code",
   "execution_count": 9,
   "metadata": {},
   "outputs": [
    {
     "data": {
      "text/plain": [
       "'放心'"
      ]
     },
     "execution_count": 9,
     "metadata": {},
     "output_type": "execute_result"
    }
   ],
   "source": [
    "chain.invoke({\"adjective\": \"担心\"})"
   ]
  },
  {
   "cell_type": "markdown",
   "metadata": {},
   "source": [
    "## 通过n-gram重叠选择\n",
    "\n",
    "NGramOverlapExampleSelector 根据 ngram 重叠得分，根据与输入最相似的示例来选择示例并对其进行排序。 ngram 重叠分数是 0.0 到 1.0 之间的浮点数（含 0.0 和 1.0）。\n",
    "\n",
    "选择器允许设置阈值分数。 ngram 重叠分数小于或等于阈值的示例被排除。默认情况下，阈值设置为 -1.0，因此不会排除任何示例，只会对它们重新排序。将阈值设置为 0.0 将排除与输入没有 ngram 重叠的示例。"
   ]
  },
  {
   "cell_type": "code",
   "execution_count": 13,
   "metadata": {},
   "outputs": [
    {
     "data": {
      "text/plain": [
       "[{'input': 'My dog barks.', 'output': '我的狗在叫。'},\n",
       " {'input': 'Cat can run.', 'output': '猫会跑。'}]"
      ]
     },
     "execution_count": 13,
     "metadata": {},
     "output_type": "execute_result"
    }
   ],
   "source": [
    "from langchain.prompts import PromptTemplate, FewShotPromptTemplate\n",
    "from langchain.prompts.example_selector.ngram_overlap import NGramOverlapExampleSelector\n",
    "\n",
    "example_prompt = PromptTemplate(\n",
    "    input_variables=[\"input\", \"output\"],\n",
    "    template=\"Input: {input}\\nOutput: {output}\",\n",
    ")\n",
    "\n",
    "# 构建翻译示例\n",
    "examples = [\n",
    "    {\"input\": \"See spot run.\", \"output\": \"请参阅现场运行。\"},\n",
    "    {\"input\": \"My dog barks.\", \"output\": \"我的狗在叫。\"},\n",
    "    {\"input\": \"Cat can run.\", \"output\": \"猫会跑。\"},\n",
    "]\n",
    "\n",
    "example_selector = NGramOverlapExampleSelector(\n",
    "    examples=examples,\n",
    "    example_prompt=example_prompt,\n",
    "    threshold=0.0\n",
    "    # 对于负阈值：择器按 ngram 重叠分数对示例进行排序，并且不排除任何示例。\n",
    "    # 对于大于 1.0 的阈值：选择器排除所有示例，并返回一个空列表。\n",
    "    # 对于阈值等于 0.0:选择器按 ngram 重叠分数对示例进行排序，并排除那些与输入没有 ngram 重叠的内容。\n",
    ")\n",
    "\n",
    "example_selector.select_examples({\"input\": \"My car is red and can run fast.\"})"
   ]
  },
  {
   "cell_type": "code",
   "execution_count": 16,
   "metadata": {},
   "outputs": [
    {
     "data": {
      "text/plain": [
       "'一个中英文翻译案例\\n\\nInput: Cat can run.\\nOutput: 猫会跑。\\n\\nInput: we car is red and can run fast.\\nOutput: '"
      ]
     },
     "execution_count": 16,
     "metadata": {},
     "output_type": "execute_result"
    }
   ],
   "source": [
    "dynamic_prompt = FewShotPromptTemplate(\n",
    "    example_selector=example_selector,\n",
    "    example_prompt=example_prompt,\n",
    "    prefix=\"一个中英文翻译案例\",\n",
    "    suffix=\"Input: {sentence}\\nOutput: \",\n",
    "    input_variables=[\"sentence\"],\n",
    ")\n",
    "\n",
    "# 一个与猫会跑有大量重叠，并且与狗会叫没有重叠的例子\n",
    "dynamic_prompt.format(sentence=\"we car is red and can run fast.\")"
   ]
  },
  {
   "cell_type": "code",
   "execution_count": 23,
   "metadata": {},
   "outputs": [
    {
     "data": {
      "text/plain": [
       "'一个中英文翻译案例\\n\\nInput: Cat can run.\\nOutput: 猫会跑。\\n\\nInput: cat can play fetch.\\nOutput: '"
      ]
     },
     "execution_count": 23,
     "metadata": {},
     "output_type": "execute_result"
    }
   ],
   "source": [
    "example_selector.threshold = 0.009\n",
    "dynamic_prompt.format(sentence=\"cat can play fetch.\")\n"
   ]
  },
  {
   "cell_type": "code",
   "execution_count": 24,
   "metadata": {},
   "outputs": [
    {
     "data": {
      "text/plain": [
       "'猫可以玩接球游戏。'"
      ]
     },
     "execution_count": 24,
     "metadata": {},
     "output_type": "execute_result"
    }
   ],
   "source": [
    "chain = dynamic_prompt | chat | output_parser\n",
    "chain.invoke({\"sentence\": \"cat can play fetch.\"})\n"
   ]
  }
 ],
 "metadata": {
  "kernelspec": {
   "display_name": "kk_agent",
   "language": "python",
   "name": "python3"
  },
  "language_info": {
   "codemirror_mode": {
    "name": "ipython",
    "version": 3
   },
   "file_extension": ".py",
   "mimetype": "text/x-python",
   "name": "python",
   "nbconvert_exporter": "python",
   "pygments_lexer": "ipython3",
   "version": "3.10.15"
  }
 },
 "nbformat": 4,
 "nbformat_minor": 2
}
