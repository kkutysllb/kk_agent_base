{
 "cells": [
  {
   "cell_type": "markdown",
   "metadata": {},
   "source": [
    "## XML输出解析器\n",
    "\n",
    "该输出解析器允许用户以流行的 XML 格式从 LLM 获取结果。\n",
    "\n",
    "请记住，大型语言模型是有漏洞的抽象！您必须使用具有足够容量的 LLM 来生成格式正确的 XML。\n"
   ]
  },
  {
   "cell_type": "code",
   "execution_count": 3,
   "metadata": {},
   "outputs": [],
   "source": [
    "from langchain.output_parsers import XMLOutputParser\n",
    "from langchain.prompts import PromptTemplate\n",
    "from langchain_openai import ChatOpenAI\n",
    "\n",
    "api_key = \"xxx\"\n",
    "base_url = \"http://localhost:1234/v1\"\n",
    "\n",
    "chat = ChatOpenAI(api_key=api_key, base_url=base_url, temperature=0.3)\n"
   ]
  },
  {
   "cell_type": "code",
   "execution_count": 5,
   "metadata": {},
   "outputs": [
    {
     "name": "stdout",
     "output_type": "stream",
     "text": [
      "以下是一个基于李连杰部分电影作品列表的XML格式示例：\n",
      "\n",
      "```xml\n",
      "<xml>\n",
      "    <movie>少林寺</movie>\n",
      "    <movie>黄飞鸿系列</movie>\n",
      "    <movie>方世玉</movie>\n",
      "    <movie>致命罗宾逊</movie>\n",
      "    <movie>致命武器4</movie>\n",
      "    <movie>敢死队</movie>\n",
      "    <movie>英雄</movie>\n",
      "    <movie>霍元甲</movie>\n",
      "    <movie>投名状</movie>\n",
      "    <movie>功夫之王</movie>\n",
      "</xml>\n",
      "```\n",
      "\n",
      "请注意，这个列表仅包含了一些李连杰的电影作品，并不全面。李连杰参与了多部电影，具体的作品表会更长且详细。\n"
     ]
    }
   ],
   "source": [
    "actor_quary = \"生成李连杰的电影作品表\"\n",
    "output = chat.invoke(\n",
    "f\"\"\"{actor_quary}\n",
    "响应以xml的结构返回，使用如下xml结构\n",
    "```\n",
    "<xml>\n",
    "<movie>电影1</movie>\n",
    "<movie>电影2</movie>\n",
    "<xml>\n",
    "``` \n",
    "\"\"\"                   \n",
    ")\n",
    "print(output.content)\n"
   ]
  },
  {
   "cell_type": "code",
   "execution_count": 6,
   "metadata": {},
   "outputs": [
    {
     "data": {
      "text/plain": [
       "{'xml': [{'movie': '少林寺'},\n",
       "  {'movie': '黄飞鸿系列'},\n",
       "  {'movie': '方世玉'},\n",
       "  {'movie': '致命罗宾逊'},\n",
       "  {'movie': '致命武器4'},\n",
       "  {'movie': '敢死队'},\n",
       "  {'movie': '英雄'},\n",
       "  {'movie': '霍元甲'},\n",
       "  {'movie': '投名状'},\n",
       "  {'movie': '功夫之王'}]}"
      ]
     },
     "execution_count": 6,
     "metadata": {},
     "output_type": "execute_result"
    }
   ],
   "source": [
    "parser = XMLOutputParser()\n",
    "parser.invoke(output)"
   ]
  },
  {
   "cell_type": "code",
   "execution_count": 7,
   "metadata": {},
   "outputs": [
    {
     "name": "stdout",
     "output_type": "stream",
     "text": [
      "{'xml': [{'movie': '少林寺'}]}{'xml': [{'movie': '黄飞鸿系列'}]}{'xml': [{'movie': '方世玉'}]}{'xml': [{'movie': '致命罗宾逊'}]}{'xml': [{'movie': '致命武器4'}]}{'xml': [{'movie': '英雄'}]}{'xml': [{'movie': '霍元甲'}]}{'xml': [{'movie': '投名状'}]}{'xml': [{'movie': '敢死队2'}]}{'xml': [{'movie': '龙门飞甲'}]}"
     ]
    }
   ],
   "source": [
    "parser = XMLOutputParser()\n",
    "\n",
    "format_instructions = \"\"\" 响应以xml的结构返回，使用如下xml结构\n",
    "```\n",
    "<xml>\n",
    "<movie>电影1</movie>\n",
    "<movie>电影2</movie>\n",
    "<xml>\n",
    "```\n",
    "\"\"\"\n",
    "\n",
    "prompt = PromptTemplate(\n",
    "    template = \"\"\"{quary}\\n{format_instructions}\"\"\",\n",
    "    input_variables = [\"quary\"],\n",
    "    partial_variables = {\"format_instructions\": format_instructions}\n",
    ")\n",
    "\n",
    "chain = prompt | chat | parser\n",
    "\n",
    "for chunk in chain.stream({\"quary\": actor_quary}):\n",
    "    print(chunk, end=\"\", flush=True)\n"
   ]
  },
  {
   "cell_type": "code",
   "execution_count": 8,
   "metadata": {},
   "outputs": [
    {
     "data": {
      "text/plain": [
       "'The output should be formatted as a XML file.\\n1. Output should conform to the tags below.\\n2. If tags are not given, make them on your own.\\n3. Remember to always open and close all the tags.\\n\\nAs an example, for the tags [\"foo\", \"bar\", \"baz\"]:\\n1. String \"<foo>\\n   <bar>\\n      <baz></baz>\\n   </bar>\\n</foo>\" is a well-formatted instance of the schema.\\n2. String \"<foo>\\n   <bar>\\n   </foo>\" is a badly-formatted instance.\\n3. String \"<foo>\\n   <tag>\\n   </tag>\\n</foo>\" is a badly-formatted instance.\\n\\nHere are the output tags:\\n```\\nNone\\n```'"
      ]
     },
     "execution_count": 8,
     "metadata": {},
     "output_type": "execute_result"
    }
   ],
   "source": [
    "parser = XMLOutputParser()\n",
    "\n",
    "format_instructions = parser.get_format_instructions()\n",
    "format_instructions"
   ]
  }
 ],
 "metadata": {
  "kernelspec": {
   "display_name": "kk_agent",
   "language": "python",
   "name": "python3"
  },
  "language_info": {
   "codemirror_mode": {
    "name": "ipython",
    "version": 3
   },
   "file_extension": ".py",
   "mimetype": "text/x-python",
   "name": "python",
   "nbconvert_exporter": "python",
   "pygments_lexer": "ipython3",
   "version": "3.10.15"
  }
 },
 "nbformat": 4,
 "nbformat_minor": 2
}
